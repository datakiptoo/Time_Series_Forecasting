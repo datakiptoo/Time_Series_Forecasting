{
 "cells": [
  {
   "cell_type": "code",
   "execution_count": 378,
   "metadata": {},
   "outputs": [],
   "source": [
    "#librariries to import \n",
    "import pandas as pd\n",
    "import numpy as np\n",
    "import matplotlib.pyplot as plt"
   ]
  },
  {
   "cell_type": "code",
   "execution_count": 379,
   "metadata": {},
   "outputs": [],
   "source": [
    "#read the data\n",
    "data=pd.read_csv(\"train.csv\")"
   ]
  },
  {
   "cell_type": "code",
   "execution_count": 380,
   "metadata": {},
   "outputs": [
    {
     "data": {
      "text/html": [
       "<div>\n",
       "<style scoped>\n",
       "    .dataframe tbody tr th:only-of-type {\n",
       "        vertical-align: middle;\n",
       "    }\n",
       "\n",
       "    .dataframe tbody tr th {\n",
       "        vertical-align: top;\n",
       "    }\n",
       "\n",
       "    .dataframe thead th {\n",
       "        text-align: right;\n",
       "    }\n",
       "</style>\n",
       "<table border=\"1\" class=\"dataframe\">\n",
       "  <thead>\n",
       "    <tr style=\"text-align: right;\">\n",
       "      <th></th>\n",
       "      <th>Rescue_ID</th>\n",
       "      <th>Date_TimeCaught</th>\n",
       "      <th>Researcher</th>\n",
       "      <th>CaptureSite</th>\n",
       "      <th>ForagingGround</th>\n",
       "      <th>CaptureMethod</th>\n",
       "      <th>Fisher</th>\n",
       "      <th>LandingSite</th>\n",
       "      <th>Species</th>\n",
       "      <th>Tag_1</th>\n",
       "      <th>...</th>\n",
       "      <th>Lost_Tags</th>\n",
       "      <th>T_Number</th>\n",
       "      <th>CCL_cm</th>\n",
       "      <th>CCW_cm</th>\n",
       "      <th>Weight_Kg</th>\n",
       "      <th>Sex</th>\n",
       "      <th>TurtleCharacteristics</th>\n",
       "      <th>Status</th>\n",
       "      <th>ReleaseSite</th>\n",
       "      <th>Date_TimeRelease</th>\n",
       "    </tr>\n",
       "  </thead>\n",
       "  <tbody>\n",
       "    <tr>\n",
       "      <th>0</th>\n",
       "      <td>2000_RE_0060</td>\n",
       "      <td>2000-12-22</td>\n",
       "      <td>Researcher_25</td>\n",
       "      <td>CaptureSite_0</td>\n",
       "      <td>Ocean</td>\n",
       "      <td>Net</td>\n",
       "      <td>Fisher_1072</td>\n",
       "      <td>LandingSite_CaptureSiteCategory_2</td>\n",
       "      <td>Species_6</td>\n",
       "      <td>CC00147</td>\n",
       "      <td>...</td>\n",
       "      <td>NaN</td>\n",
       "      <td>NaN</td>\n",
       "      <td>64.70</td>\n",
       "      <td>62.60</td>\n",
       "      <td>NaN</td>\n",
       "      <td>Unknown</td>\n",
       "      <td>algae at rear of shell</td>\n",
       "      <td>Released</td>\n",
       "      <td>ReleaseSite_50</td>\n",
       "      <td>22/12/00</td>\n",
       "    </tr>\n",
       "    <tr>\n",
       "      <th>1</th>\n",
       "      <td>2001_RE_0187</td>\n",
       "      <td>2001-10-28</td>\n",
       "      <td>Researcher_6</td>\n",
       "      <td>CaptureSite_0</td>\n",
       "      <td>Ocean</td>\n",
       "      <td>Net</td>\n",
       "      <td>Fisher_520</td>\n",
       "      <td>LandingSite_CaptureSiteCategory_2</td>\n",
       "      <td>Species_6</td>\n",
       "      <td>W442</td>\n",
       "      <td>...</td>\n",
       "      <td>NaN</td>\n",
       "      <td>NaN</td>\n",
       "      <td>35.85</td>\n",
       "      <td>31.35</td>\n",
       "      <td>NaN</td>\n",
       "      <td>Unknown</td>\n",
       "      <td>multiple b's on front flippers&amp;  a lot of alga...</td>\n",
       "      <td>Released</td>\n",
       "      <td>ReleaseSite_62</td>\n",
       "      <td>28/10/01</td>\n",
       "    </tr>\n",
       "    <tr>\n",
       "      <th>2</th>\n",
       "      <td>2001_RE_0197</td>\n",
       "      <td>2001-11-01</td>\n",
       "      <td>Researcher_6</td>\n",
       "      <td>CaptureSite_0</td>\n",
       "      <td>Ocean</td>\n",
       "      <td>Net</td>\n",
       "      <td>Fisher_1669</td>\n",
       "      <td>LandingSite_CaptureSiteCategory_2</td>\n",
       "      <td>Species_5</td>\n",
       "      <td>KE0376</td>\n",
       "      <td>...</td>\n",
       "      <td>NaN</td>\n",
       "      <td>NaN</td>\n",
       "      <td>51.80</td>\n",
       "      <td>49.20</td>\n",
       "      <td>NaN</td>\n",
       "      <td>Unknown</td>\n",
       "      <td>clean</td>\n",
       "      <td>Released</td>\n",
       "      <td>ReleaseSite_50</td>\n",
       "      <td>01/11/01</td>\n",
       "    </tr>\n",
       "    <tr>\n",
       "      <th>3</th>\n",
       "      <td>2002_RE_0031</td>\n",
       "      <td>2002-03-11</td>\n",
       "      <td>Researcher_32</td>\n",
       "      <td>CaptureSite_0</td>\n",
       "      <td>Ocean</td>\n",
       "      <td>Net</td>\n",
       "      <td>Fisher_1798</td>\n",
       "      <td>LandingSite_CaptureSiteCategory_2</td>\n",
       "      <td>Species_6</td>\n",
       "      <td>CC00302</td>\n",
       "      <td>...</td>\n",
       "      <td>NaN</td>\n",
       "      <td>NaN</td>\n",
       "      <td>60.50</td>\n",
       "      <td>59.00</td>\n",
       "      <td>NaN</td>\n",
       "      <td>Unknown</td>\n",
       "      <td>1 b 3 CS+ calcerous algae at rear end of shell...</td>\n",
       "      <td>Released</td>\n",
       "      <td>ReleaseSite_50</td>\n",
       "      <td>11/03/02</td>\n",
       "    </tr>\n",
       "    <tr>\n",
       "      <th>4</th>\n",
       "      <td>2002_RE_0118</td>\n",
       "      <td>2002-08-08</td>\n",
       "      <td>Researcher_25</td>\n",
       "      <td>CaptureSite_0</td>\n",
       "      <td>Ocean</td>\n",
       "      <td>Beached</td>\n",
       "      <td>Fisher_1918</td>\n",
       "      <td>LandingSite_CaptureSiteCategory_2</td>\n",
       "      <td>Species_5</td>\n",
       "      <td>NotTagged_0113</td>\n",
       "      <td>...</td>\n",
       "      <td>NaN</td>\n",
       "      <td>NaN</td>\n",
       "      <td>34.70</td>\n",
       "      <td>33.00</td>\n",
       "      <td>NaN</td>\n",
       "      <td>Unknown</td>\n",
       "      <td>very lively+ right eye is hanging out + swolle...</td>\n",
       "      <td>Released</td>\n",
       "      <td>ReleaseSite_62</td>\n",
       "      <td>08/08/02</td>\n",
       "    </tr>\n",
       "    <tr>\n",
       "      <th>5</th>\n",
       "      <td>2002_RE_0119</td>\n",
       "      <td>2002-08-10</td>\n",
       "      <td>Researcher_25</td>\n",
       "      <td>CaptureSite_0</td>\n",
       "      <td>Ocean</td>\n",
       "      <td>Not_Recorded</td>\n",
       "      <td>Fisher_1918</td>\n",
       "      <td>LandingSite_CaptureSiteCategory_2</td>\n",
       "      <td>Species_5</td>\n",
       "      <td>NotTagged_0114</td>\n",
       "      <td>...</td>\n",
       "      <td>NaN</td>\n",
       "      <td>NaN</td>\n",
       "      <td>33.20</td>\n",
       "      <td>30.70</td>\n",
       "      <td>NaN</td>\n",
       "      <td>Unknown</td>\n",
       "      <td>large chip 6 LM</td>\n",
       "      <td>Released</td>\n",
       "      <td>ReleaseSite_8</td>\n",
       "      <td>10/08/02</td>\n",
       "    </tr>\n",
       "    <tr>\n",
       "      <th>6</th>\n",
       "      <td>2002_RE_0214</td>\n",
       "      <td>2002-10-21</td>\n",
       "      <td>Researcher_25</td>\n",
       "      <td>CaptureSite_0</td>\n",
       "      <td>Ocean</td>\n",
       "      <td>Net</td>\n",
       "      <td>Fisher_2013</td>\n",
       "      <td>LandingSite_CaptureSiteCategory_2</td>\n",
       "      <td>Species_6</td>\n",
       "      <td>KA460</td>\n",
       "      <td>...</td>\n",
       "      <td>NaN</td>\n",
       "      <td>NaN</td>\n",
       "      <td>37.40</td>\n",
       "      <td>33.50</td>\n",
       "      <td>NaN</td>\n",
       "      <td>Unknown</td>\n",
       "      <td>green and whitish-pink calcerous algae growth ...</td>\n",
       "      <td>Released</td>\n",
       "      <td>ReleaseSite_62</td>\n",
       "      <td>21/10/02</td>\n",
       "    </tr>\n",
       "    <tr>\n",
       "      <th>7</th>\n",
       "      <td>2002_RE_0215</td>\n",
       "      <td>2002-10-21</td>\n",
       "      <td>Researcher_25</td>\n",
       "      <td>CaptureSite_0</td>\n",
       "      <td>Ocean</td>\n",
       "      <td>Net</td>\n",
       "      <td>Fisher_1815</td>\n",
       "      <td>LandingSite_CaptureSiteCategory_2</td>\n",
       "      <td>Species_6</td>\n",
       "      <td>KA442</td>\n",
       "      <td>...</td>\n",
       "      <td>NaN</td>\n",
       "      <td>NaN</td>\n",
       "      <td>40.30</td>\n",
       "      <td>37.20</td>\n",
       "      <td>NaN</td>\n",
       "      <td>Unknown</td>\n",
       "      <td>calcerous algae growth-especially rear end and...</td>\n",
       "      <td>Released</td>\n",
       "      <td>ReleaseSite_50</td>\n",
       "      <td>21/10/02</td>\n",
       "    </tr>\n",
       "    <tr>\n",
       "      <th>8</th>\n",
       "      <td>2002_RE_0218</td>\n",
       "      <td>2002-10-22</td>\n",
       "      <td>Researcher_30</td>\n",
       "      <td>CaptureSite_0</td>\n",
       "      <td>Ocean</td>\n",
       "      <td>Net</td>\n",
       "      <td>Fisher_1815</td>\n",
       "      <td>LandingSite_CaptureSiteCategory_2</td>\n",
       "      <td>Species_5</td>\n",
       "      <td>KA466</td>\n",
       "      <td>...</td>\n",
       "      <td>NaN</td>\n",
       "      <td>NaN</td>\n",
       "      <td>44.00</td>\n",
       "      <td>43.20</td>\n",
       "      <td>NaN</td>\n",
       "      <td>Unknown</td>\n",
       "      <td>clean shell</td>\n",
       "      <td>Released</td>\n",
       "      <td>ReleaseSite_50</td>\n",
       "      <td>22/10/02</td>\n",
       "    </tr>\n",
       "    <tr>\n",
       "      <th>9</th>\n",
       "      <td>2003_RE_0187</td>\n",
       "      <td>2003-06-09</td>\n",
       "      <td>Researcher_32</td>\n",
       "      <td>CaptureSite_0</td>\n",
       "      <td>Ocean</td>\n",
       "      <td>Net</td>\n",
       "      <td>Fisher_1066</td>\n",
       "      <td>LandingSite_CaptureSiteCategory_2</td>\n",
       "      <td>Species_5</td>\n",
       "      <td>KE1184</td>\n",
       "      <td>...</td>\n",
       "      <td>NaN</td>\n",
       "      <td>NaN</td>\n",
       "      <td>48.30</td>\n",
       "      <td>43.30</td>\n",
       "      <td>NaN</td>\n",
       "      <td>Unknown</td>\n",
       "      <td>10 LMS has a small chip&amp; right rear flipper is...</td>\n",
       "      <td>Released</td>\n",
       "      <td>ReleaseSite_62</td>\n",
       "      <td>NaN</td>\n",
       "    </tr>\n",
       "  </tbody>\n",
       "</table>\n",
       "<p>10 rows × 21 columns</p>\n",
       "</div>"
      ],
      "text/plain": [
       "      Rescue_ID Date_TimeCaught     Researcher    CaptureSite ForagingGround  \\\n",
       "0  2000_RE_0060      2000-12-22  Researcher_25  CaptureSite_0          Ocean   \n",
       "1  2001_RE_0187      2001-10-28   Researcher_6  CaptureSite_0          Ocean   \n",
       "2  2001_RE_0197      2001-11-01   Researcher_6  CaptureSite_0          Ocean   \n",
       "3  2002_RE_0031      2002-03-11  Researcher_32  CaptureSite_0          Ocean   \n",
       "4  2002_RE_0118      2002-08-08  Researcher_25  CaptureSite_0          Ocean   \n",
       "5  2002_RE_0119      2002-08-10  Researcher_25  CaptureSite_0          Ocean   \n",
       "6  2002_RE_0214      2002-10-21  Researcher_25  CaptureSite_0          Ocean   \n",
       "7  2002_RE_0215      2002-10-21  Researcher_25  CaptureSite_0          Ocean   \n",
       "8  2002_RE_0218      2002-10-22  Researcher_30  CaptureSite_0          Ocean   \n",
       "9  2003_RE_0187      2003-06-09  Researcher_32  CaptureSite_0          Ocean   \n",
       "\n",
       "  CaptureMethod       Fisher                        LandingSite    Species  \\\n",
       "0           Net  Fisher_1072  LandingSite_CaptureSiteCategory_2  Species_6   \n",
       "1           Net   Fisher_520  LandingSite_CaptureSiteCategory_2  Species_6   \n",
       "2           Net  Fisher_1669  LandingSite_CaptureSiteCategory_2  Species_5   \n",
       "3           Net  Fisher_1798  LandingSite_CaptureSiteCategory_2  Species_6   \n",
       "4       Beached  Fisher_1918  LandingSite_CaptureSiteCategory_2  Species_5   \n",
       "5  Not_Recorded  Fisher_1918  LandingSite_CaptureSiteCategory_2  Species_5   \n",
       "6           Net  Fisher_2013  LandingSite_CaptureSiteCategory_2  Species_6   \n",
       "7           Net  Fisher_1815  LandingSite_CaptureSiteCategory_2  Species_6   \n",
       "8           Net  Fisher_1815  LandingSite_CaptureSiteCategory_2  Species_5   \n",
       "9           Net  Fisher_1066  LandingSite_CaptureSiteCategory_2  Species_5   \n",
       "\n",
       "            Tag_1  ... Lost_Tags T_Number CCL_cm  CCW_cm  Weight_Kg      Sex  \\\n",
       "0         CC00147  ...       NaN      NaN  64.70   62.60        NaN  Unknown   \n",
       "1            W442  ...       NaN      NaN  35.85   31.35        NaN  Unknown   \n",
       "2          KE0376  ...       NaN      NaN  51.80   49.20        NaN  Unknown   \n",
       "3         CC00302  ...       NaN      NaN  60.50   59.00        NaN  Unknown   \n",
       "4  NotTagged_0113  ...       NaN      NaN  34.70   33.00        NaN  Unknown   \n",
       "5  NotTagged_0114  ...       NaN      NaN  33.20   30.70        NaN  Unknown   \n",
       "6           KA460  ...       NaN      NaN  37.40   33.50        NaN  Unknown   \n",
       "7           KA442  ...       NaN      NaN  40.30   37.20        NaN  Unknown   \n",
       "8           KA466  ...       NaN      NaN  44.00   43.20        NaN  Unknown   \n",
       "9          KE1184  ...       NaN      NaN  48.30   43.30        NaN  Unknown   \n",
       "\n",
       "                               TurtleCharacteristics    Status  \\\n",
       "0                             algae at rear of shell  Released   \n",
       "1  multiple b's on front flippers&  a lot of alga...  Released   \n",
       "2                                              clean  Released   \n",
       "3  1 b 3 CS+ calcerous algae at rear end of shell...  Released   \n",
       "4  very lively+ right eye is hanging out + swolle...  Released   \n",
       "5                                    large chip 6 LM  Released   \n",
       "6  green and whitish-pink calcerous algae growth ...  Released   \n",
       "7  calcerous algae growth-especially rear end and...  Released   \n",
       "8                                       clean shell   Released   \n",
       "9  10 LMS has a small chip& right rear flipper is...  Released   \n",
       "\n",
       "      ReleaseSite Date_TimeRelease  \n",
       "0  ReleaseSite_50         22/12/00  \n",
       "1  ReleaseSite_62         28/10/01  \n",
       "2  ReleaseSite_50         01/11/01  \n",
       "3  ReleaseSite_50         11/03/02  \n",
       "4  ReleaseSite_62         08/08/02  \n",
       "5   ReleaseSite_8         10/08/02  \n",
       "6  ReleaseSite_62         21/10/02  \n",
       "7  ReleaseSite_50         21/10/02  \n",
       "8  ReleaseSite_50         22/10/02  \n",
       "9  ReleaseSite_62              NaN  \n",
       "\n",
       "[10 rows x 21 columns]"
      ]
     },
     "execution_count": 380,
     "metadata": {},
     "output_type": "execute_result"
    }
   ],
   "source": [
    "#first 10 data\n",
    "data.head(10)"
   ]
  },
  {
   "cell_type": "code",
   "execution_count": 381,
   "metadata": {},
   "outputs": [
    {
     "name": "stdout",
     "output_type": "stream",
     "text": [
      "<class 'pandas.core.frame.DataFrame'>\n",
      "RangeIndex: 18062 entries, 0 to 18061\n",
      "Data columns (total 21 columns):\n",
      " #   Column                 Non-Null Count  Dtype  \n",
      "---  ------                 --------------  -----  \n",
      " 0   Rescue_ID              18062 non-null  object \n",
      " 1   Date_TimeCaught        18062 non-null  object \n",
      " 2   Researcher             18062 non-null  object \n",
      " 3   CaptureSite            18062 non-null  object \n",
      " 4   ForagingGround         18062 non-null  object \n",
      " 5   CaptureMethod          18062 non-null  object \n",
      " 6   Fisher                 18062 non-null  object \n",
      " 7   LandingSite            18062 non-null  object \n",
      " 8   Species                18062 non-null  object \n",
      " 9   Tag_1                  17937 non-null  object \n",
      " 10  Tag_2                  4911 non-null   object \n",
      " 11  Lost_Tags              925 non-null    object \n",
      " 12  T_Number               38 non-null     object \n",
      " 13  CCL_cm                 18038 non-null  float64\n",
      " 14  CCW_cm                 18035 non-null  float64\n",
      " 15  Weight_Kg              12653 non-null  float64\n",
      " 16  Sex                    13732 non-null  object \n",
      " 17  TurtleCharacteristics  18010 non-null  object \n",
      " 18  Status                 14429 non-null  object \n",
      " 19  ReleaseSite            17987 non-null  object \n",
      " 20  Date_TimeRelease       11954 non-null  object \n",
      "dtypes: float64(3), object(18)\n",
      "memory usage: 2.9+ MB\n"
     ]
    }
   ],
   "source": [
    "#info on the data\n",
    "data.info()"
   ]
  },
  {
   "cell_type": "code",
   "execution_count": 382,
   "metadata": {},
   "outputs": [
    {
     "data": {
      "text/plain": [
       "(18062, 21)"
      ]
     },
     "execution_count": 382,
     "metadata": {},
     "output_type": "execute_result"
    }
   ],
   "source": [
    "data.shape"
   ]
  },
  {
   "cell_type": "code",
   "execution_count": 383,
   "metadata": {},
   "outputs": [
    {
     "data": {
      "text/plain": [
       "Tag_1                      125\n",
       "Tag_2                    13151\n",
       "Lost_Tags                17137\n",
       "T_Number                 18024\n",
       "CCL_cm                      24\n",
       "CCW_cm                      27\n",
       "Weight_Kg                 5409\n",
       "Sex                       4330\n",
       "TurtleCharacteristics       52\n",
       "Status                    3633\n",
       "ReleaseSite                 75\n",
       "Date_TimeRelease          6108\n",
       "dtype: int64"
      ]
     },
     "execution_count": 383,
     "metadata": {},
     "output_type": "execute_result"
    }
   ],
   "source": [
    "#Check for missing values\n",
    "missing_values=data.isna().sum()\n",
    "columns_with_mising_values=missing_values[missing_values > 0]\n",
    "columns_with_mising_values"
   ]
  },
  {
   "cell_type": "code",
   "execution_count": 384,
   "metadata": {},
   "outputs": [
    {
     "data": {
      "text/plain": [
       "Index(['Tag_2', 'Lost_Tags', 'T_Number'], dtype='object')"
      ]
     },
     "execution_count": 384,
     "metadata": {},
     "output_type": "execute_result"
    }
   ],
   "source": [
    "#haandle missing values\n",
    "threshold=len(data)/2\n",
    "columns_to_drop=columns_with_mising_values[columns_with_mising_values > threshold].index\n",
    "columns_to_drop"
   ]
  },
  {
   "cell_type": "code",
   "execution_count": 385,
   "metadata": {},
   "outputs": [],
   "source": [
    "data=data.drop(columns=columns_to_drop)"
   ]
  },
  {
   "cell_type": "code",
   "execution_count": 386,
   "metadata": {},
   "outputs": [
    {
     "name": "stdout",
     "output_type": "stream",
     "text": [
      "Index(['CCL_cm', 'CCW_cm', 'Date_TimeRelease', 'ReleaseSite', 'Sex', 'Status',\n",
      "       'Tag_1', 'TurtleCharacteristics', 'Weight_Kg'],\n",
      "      dtype='object')\n"
     ]
    }
   ],
   "source": [
    "remaining_missing_values= columns_with_mising_values.index.difference(columns_to_drop)\n",
    "\n",
    "# Display the common columns\n",
    "print(remaining_missing_values)\n"
   ]
  },
  {
   "cell_type": "code",
   "execution_count": 387,
   "metadata": {},
   "outputs": [
    {
     "data": {
      "text/plain": [
       "0        64.70\n",
       "1        35.85\n",
       "2        51.80\n",
       "3        60.50\n",
       "4        34.70\n",
       "         ...  \n",
       "18057    57.13\n",
       "18058    42.07\n",
       "18059    57.20\n",
       "18060    51.90\n",
       "18061    34.60\n",
       "Name: CCL_cm, Length: 18062, dtype: float64"
      ]
     },
     "execution_count": 387,
     "metadata": {},
     "output_type": "execute_result"
    }
   ],
   "source": [
    "#Column \"CCL_cm\",\"Central Carapace Length (Biometric measurement). Measured in centimetres\"\n",
    "data['CCL_cm']"
   ]
  },
  {
   "cell_type": "code",
   "execution_count": 388,
   "metadata": {},
   "outputs": [
    {
     "data": {
      "text/plain": [
       "CCL_cm\n",
       "40.00    172\n",
       "41.00    150\n",
       "41.50    142\n",
       "39.00    142\n",
       "42.00    142\n",
       "        ... \n",
       "51.27      1\n",
       "45.77      1\n",
       "30.87      1\n",
       "49.05      1\n",
       "57.13      1\n",
       "Name: count, Length: 1338, dtype: int64"
      ]
     },
     "execution_count": 388,
     "metadata": {},
     "output_type": "execute_result"
    }
   ],
   "source": [
    "CCL_counts=data['CCL_cm'].value_counts()\n",
    "CCL_counts"
   ]
  },
  {
   "cell_type": "code",
   "execution_count": 389,
   "metadata": {},
   "outputs": [
    {
     "data": {
      "image/png": "[encoded data removed]",
      "text/plain": [
       "<Figure size 640x480 with 1 Axes>"
      ]
     },
     "metadata": {},
     "output_type": "display_data"
    }
   ],
   "source": [
    "#plotting bar chart\n",
    "plt.bar(CCL_counts.index,CCL_counts.values,color='skyblue')\n",
    "plt.xlabel('CCL_length')\n",
    "plt.ylabel('Count')\n",
    "plt.title('CCL Counts per Length')\n",
    "plt.xticks(rotation='vertical')\n",
    "plt.show()"
   ]
  },
  {
   "cell_type": "code",
   "execution_count": 390,
   "metadata": {},
   "outputs": [],
   "source": [
    "#Fill missing values with median\n",
    "mean_value=data['CCL_cm'].mean()\n",
    "data['CCL_cm']=data['CCL_cm'].fillna(mean_value)"
   ]
  },
  {
   "cell_type": "code",
   "execution_count": 391,
   "metadata": {},
   "outputs": [
    {
     "data": {
      "text/plain": [
       "0        62.60\n",
       "1        31.35\n",
       "2        49.20\n",
       "3        59.00\n",
       "4        33.00\n",
       "         ...  \n",
       "18057    50.57\n",
       "18058    38.37\n",
       "18059    52.30\n",
       "18060    48.50\n",
       "18061    31.20\n",
       "Name: CCW_cm, Length: 18062, dtype: float64"
      ]
     },
     "execution_count": 391,
     "metadata": {},
     "output_type": "execute_result"
    }
   ],
   "source": [
    "#Central Carapace Width (Biometric measurement). Measured in centimetres\"\n",
    "data['CCW_cm']"
   ]
  },
  {
   "cell_type": "code",
   "execution_count": 392,
   "metadata": {},
   "outputs": [
    {
     "data": {
      "image/png": "[encoded data removed]",
      "text/plain": [
       "<Figure size 640x480 with 1 Axes>"
      ]
     },
     "metadata": {},
     "output_type": "display_data"
    }
   ],
   "source": [
    "CCW_counts=data['CCW_cm'].value_counts()\n",
    "#plotting bar chart\n",
    "plt.bar(CCW_counts.index,CCW_counts.values,color='skyblue')\n",
    "plt.xlabel('CCW_length')\n",
    "plt.ylabel('Count')\n",
    "plt.title('CCW Counts per Length')\n",
    "plt.xticks(rotation='vertical')\n",
    "plt.show()"
   ]
  },
  {
   "cell_type": "code",
   "execution_count": 393,
   "metadata": {},
   "outputs": [],
   "source": [
    "#Fill missing values with median\n",
    "mean_value=data['CCW_cm'].mean()\n",
    "data['CCW_cm']=data['CCW_cm'].fillna(mean_value)"
   ]
  },
  {
   "cell_type": "code",
   "execution_count": 394,
   "metadata": {},
   "outputs": [
    {
     "data": {
      "text/plain": [
       "Index(['Rescue_ID', 'Date_TimeCaught', 'Researcher', 'CaptureSite',\n",
       "       'ForagingGround', 'CaptureMethod', 'Fisher', 'LandingSite', 'Species',\n",
       "       'Tag_1', 'CCL_cm', 'CCW_cm', 'Weight_Kg', 'Sex',\n",
       "       'TurtleCharacteristics', 'Status', 'ReleaseSite', 'Date_TimeRelease'],\n",
       "      dtype='object')"
      ]
     },
     "execution_count": 394,
     "metadata": {},
     "output_type": "execute_result"
    }
   ],
   "source": [
    "#Understand the data\n",
    "data.columns"
   ]
  },
  {
   "cell_type": "code",
   "execution_count": 395,
   "metadata": {},
   "outputs": [
    {
     "data": {
      "text/plain": [
       "0    2000_RE_0060\n",
       "1    2001_RE_0187\n",
       "2    2001_RE_0197\n",
       "3    2002_RE_0031\n",
       "4    2002_RE_0118\n",
       "5    2002_RE_0119\n",
       "6    2002_RE_0214\n",
       "7    2002_RE_0215\n",
       "8    2002_RE_0218\n",
       "9    2003_RE_0187\n",
       "Name: Rescue_ID, dtype: object"
      ]
     },
     "execution_count": 395,
     "metadata": {},
     "output_type": "execute_result"
    }
   ],
   "source": [
    "#Column Rescue_ID : It�s an individual bycatch incidence identity number. The numbers are consecutive, for each year \n",
    "                    # e.g. �2018_RE_0732 means rescue number 732 in year 2018\"\n",
    "data['Rescue_ID'].head(10)\n"
   ]
  },
  {
   "cell_type": "code",
   "execution_count": 396,
   "metadata": {},
   "outputs": [],
   "source": [
    "#Split the data based on rescue number and year \n",
    "data[['Year','RE','Rescue_number']]=data['Rescue_ID'].str.split('_', expand=True)"
   ]
  },
  {
   "cell_type": "code",
   "execution_count": 397,
   "metadata": {},
   "outputs": [],
   "source": [
    "del data['RE']"
   ]
  },
  {
   "cell_type": "code",
   "execution_count": 398,
   "metadata": {},
   "outputs": [],
   "source": [
    "#Rescue_number per year\n",
    "rescue_number_per_year=data.groupby('Year')['Rescue_number'].count().to_dict()\n"
   ]
  },
  {
   "cell_type": "code",
   "execution_count": 399,
   "metadata": {},
   "outputs": [
    {
     "data": {
      "text/plain": [
       "{'1998': 16,\n",
       " '1999': 40,\n",
       " '2000': 62,\n",
       " '2001': 270,\n",
       " '2002': 291,\n",
       " '2003': 544,\n",
       " '2004': 456,\n",
       " '2005': 445,\n",
       " '2006': 404,\n",
       " '2007': 617,\n",
       " '2008': 853,\n",
       " '2009': 819,\n",
       " '2010': 1134,\n",
       " '2011': 1398,\n",
       " '2012': 1651,\n",
       " '2013': 1331,\n",
       " '2014': 1627,\n",
       " '2015': 1590,\n",
       " '2016': 1395,\n",
       " '2017': 1555,\n",
       " '2018': 1564}"
      ]
     },
     "execution_count": 399,
     "metadata": {},
     "output_type": "execute_result"
    }
   ],
   "source": [
    "rescue_number_per_year"
   ]
  },
  {
   "cell_type": "code",
   "execution_count": 400,
   "metadata": {},
   "outputs": [
    {
     "data": {
      "image/png": "[encoded data removed]",
      "text/plain": [
       "<Figure size 640x480 with 1 Axes>"
      ]
     },
     "metadata": {},
     "output_type": "display_data"
    }
   ],
   "source": [
    "#plotting the number of rescue per year\n",
    "plt.bar(rescue_number_per_year.keys(), rescue_number_per_year.values())\n",
    "plt.xlabel('Year')\n",
    "plt.ylabel('Rescue_Number')\n",
    "plt.title(' Rescue_Number_Per_Year')\n",
    "plt.xticks(rotation='vertical')\n",
    "plt.show()"
   ]
  },
  {
   "cell_type": "code",
   "execution_count": 401,
   "metadata": {},
   "outputs": [
    {
     "data": {
      "text/plain": [
       "0        2000-12-22\n",
       "1        2001-10-28\n",
       "2        2001-11-01\n",
       "3        2002-03-11\n",
       "4        2002-08-08\n",
       "            ...    \n",
       "18057    2018-12-18\n",
       "18058    2018-12-18\n",
       "18059    2018-12-24\n",
       "18060    2018-12-24\n",
       "18061    2018-12-28\n",
       "Name: Date_TimeCaught, Length: 18062, dtype: object"
      ]
     },
     "execution_count": 401,
     "metadata": {},
     "output_type": "execute_result"
    }
   ],
   "source": [
    "#Column Date_TimeCaught\n",
    "data['Date_TimeCaught']"
   ]
  },
  {
   "cell_type": "code",
   "execution_count": 402,
   "metadata": {},
   "outputs": [],
   "source": [
    "data['Date_TimeCaught']=pd.to_datetime(data['Date_TimeCaught'])"
   ]
  },
  {
   "cell_type": "code",
   "execution_count": 403,
   "metadata": {},
   "outputs": [
    {
     "data": {
      "text/plain": [
       "0       2000-12-22\n",
       "1       2001-10-28\n",
       "2       2001-11-01\n",
       "3       2002-03-11\n",
       "4       2002-08-08\n",
       "           ...    \n",
       "18057   2018-12-18\n",
       "18058   2018-12-18\n",
       "18059   2018-12-24\n",
       "18060   2018-12-24\n",
       "18061   2018-12-28\n",
       "Name: Date_TimeCaught, Length: 18062, dtype: datetime64[ns]"
      ]
     },
     "execution_count": 403,
     "metadata": {},
     "output_type": "execute_result"
    }
   ],
   "source": [
    "data['Date_TimeCaught']"
   ]
  },
  {
   "cell_type": "code",
   "execution_count": 404,
   "metadata": {},
   "outputs": [],
   "source": [
    " #Splitting into separate columns for month and day\n",
    "data['Month'] = data['Date_TimeCaught'].dt.month\n",
    "data['Day'] =data['Date_TimeCaught'].dt.day\n",
    "data['Year(1)']=data['Date_TimeCaught'].dt.year"
   ]
  },
  {
   "cell_type": "code",
   "execution_count": 405,
   "metadata": {},
   "outputs": [],
   "source": [
    "#Convert 'Year' column to int\n",
    "data['Year'] = pd.to_numeric(data['Year'], errors='coerce')"
   ]
  },
  {
   "cell_type": "code",
   "execution_count": 406,
   "metadata": {},
   "outputs": [],
   "source": [
    "data['Identical']=data['Year'] == data['Year(1)']"
   ]
  },
  {
   "cell_type": "code",
   "execution_count": 407,
   "metadata": {},
   "outputs": [
    {
     "data": {
      "text/plain": [
       "Identical\n",
       "True     18057\n",
       "False        5\n",
       "Name: count, dtype: int64"
      ]
     },
     "execution_count": 407,
     "metadata": {},
     "output_type": "execute_result"
    }
   ],
   "source": [
    "data['Identical'].value_counts()"
   ]
  },
  {
   "cell_type": "code",
   "execution_count": 408,
   "metadata": {},
   "outputs": [],
   "source": [
    "# Grouping by 'Month' and 'Year', and counting the number of records\n",
    "records_per_month_year = data.groupby(['Month', 'Year']).size().reset_index(name='NumRescue')"
   ]
  },
  {
   "cell_type": "code",
   "execution_count": 409,
   "metadata": {},
   "outputs": [],
   "source": [
    "# Finding the month and year with the most records\n",
    "max_rescues = records_per_month_year.loc[records_per_month_year['NumRescue'].idxmax()]\n"
   ]
  },
  {
   "cell_type": "code",
   "execution_count": 410,
   "metadata": {},
   "outputs": [
    {
     "data": {
      "text/plain": [
       "Month          11\n",
       "Year         2014\n",
       "NumRescue     240\n",
       "Name: 218, dtype: int64"
      ]
     },
     "execution_count": 410,
     "metadata": {},
     "output_type": "execute_result"
    }
   ],
   "source": [
    "max_rescues"
   ]
  },
  {
   "cell_type": "code",
   "execution_count": 411,
   "metadata": {},
   "outputs": [
    {
     "data": {
      "image/png": "[encoded data removed]",
      "text/plain": [
       "<Figure size 640x480 with 1 Axes>"
      ]
     },
     "metadata": {},
     "output_type": "display_data"
    }
   ],
   "source": [
    "# Plotting the bar chart\n",
    "plt.bar(records_per_month_year.index, records_per_month_year['NumRescue'])\n",
    "plt.xlabel('Month and Year')\n",
    "plt.ylabel('Number of Rescues')\n",
    "plt.title('Number of Rescues per Month and Year')\n",
    "# Display every label\n",
    "plt.xticks(records_per_month_year.index[::12], [f\"{month:02d}-{year}\" for month, year in zip(records_per_month_year['Month'][::12], records_per_month_year['Year'][::12])], rotation=45, ha='right')\n",
    "plt.tight_layout()\n",
    "plt.show()"
   ]
  },
  {
   "cell_type": "code",
   "execution_count": 412,
   "metadata": {},
   "outputs": [
    {
     "data": {
      "text/plain": [
       "0        Researcher_25\n",
       "1         Researcher_6\n",
       "2         Researcher_6\n",
       "3        Researcher_32\n",
       "4        Researcher_25\n",
       "             ...      \n",
       "18057    Researcher_30\n",
       "18058    Researcher_30\n",
       "18059    Researcher_30\n",
       "18060    Researcher_30\n",
       "18061    Researcher_30\n",
       "Name: Researcher, Length: 18062, dtype: object"
      ]
     },
     "execution_count": 412,
     "metadata": {},
     "output_type": "execute_result"
    }
   ],
   "source": [
    "#Column 3 : Researcher\n",
    "data['Researcher']"
   ]
  },
  {
   "cell_type": "code",
   "execution_count": 413,
   "metadata": {},
   "outputs": [
    {
     "data": {
      "image/png": "[encoded data removed]",
      "text/plain": [
       "<Figure size 640x480 with 1 Axes>"
      ]
     },
     "metadata": {},
     "output_type": "display_data"
    }
   ],
   "source": [
    "rescue_counts_researcher=data['Researcher'].value_counts()\n",
    "#plotting bar chart\n",
    "plt.bar(rescue_counts_researcher.head(10).index,rescue_counts_researcher.head(10).values,color='skyblue')\n",
    "plt.xlabel('Researcher')\n",
    "plt.ylabel('Count')\n",
    "plt.title('Rescue Counts per Researcher')\n",
    "plt.xticks(rotation='vertical')\n",
    "plt.show()"
   ]
  },
  {
   "cell_type": "code",
   "execution_count": 414,
   "metadata": {},
   "outputs": [
    {
     "data": {
      "text/plain": [
       "0        CaptureSite_0\n",
       "1        CaptureSite_0\n",
       "2        CaptureSite_0\n",
       "3        CaptureSite_0\n",
       "4        CaptureSite_0\n",
       "             ...      \n",
       "18057    CaptureSite_9\n",
       "18058    CaptureSite_9\n",
       "18059    CaptureSite_9\n",
       "18060    CaptureSite_9\n",
       "18061    CaptureSite_9\n",
       "Name: CaptureSite, Length: 18062, dtype: object"
      ]
     },
     "execution_count": 414,
     "metadata": {},
     "output_type": "execute_result"
    }
   ],
   "source": [
    "#Column 4 CaptureSite\n",
    "data['CaptureSite']"
   ]
  },
  {
   "cell_type": "code",
   "execution_count": 415,
   "metadata": {},
   "outputs": [
    {
     "data": {
      "image/png": "[encoded data removed]",
      "text/plain": [
       "<Figure size 640x480 with 1 Axes>"
      ]
     },
     "metadata": {},
     "output_type": "display_data"
    }
   ],
   "source": [
    "capture_site_counts=data['CaptureSite'].value_counts()\n",
    "#plotting bar chart\n",
    "plt.bar(capture_site_counts.head(20).index,capture_site_counts.head(20).values,color='skyblue')\n",
    "plt.xlabel('Capture Site')\n",
    "plt.ylabel('Count')\n",
    "plt.title('Counts per Capture Site')\n",
    "plt.xticks(rotation='vertical')\n",
    "plt.show()"
   ]
  },
  {
   "cell_type": "code",
   "execution_count": 416,
   "metadata": {},
   "outputs": [
    {
     "data": {
      "text/plain": [
       "0        Ocean\n",
       "1        Ocean\n",
       "2        Ocean\n",
       "3        Ocean\n",
       "4        Ocean\n",
       "         ...  \n",
       "18057    Ocean\n",
       "18058    Ocean\n",
       "18059    Ocean\n",
       "18060    Ocean\n",
       "18061    Ocean\n",
       "Name: ForagingGround, Length: 18062, dtype: object"
      ]
     },
     "execution_count": 416,
     "metadata": {},
     "output_type": "execute_result"
    }
   ],
   "source": [
    "#Column 4 ForagingGround\n",
    "#eneral area of ocean area where turtle was captured. The assumption is that the turtle was foraging where it was captured. \n",
    "# The foraging area is broadly classified either as the open ocean or creek section\"\n",
    "data['ForagingGround']\n"
   ]
  },
  {
   "cell_type": "code",
   "execution_count": 417,
   "metadata": {},
   "outputs": [
    {
     "data": {
      "text/plain": [
       "ForagingGround\n",
       "Creek    11408\n",
       "Ocean     6651\n",
       "creek        3\n",
       "Name: count, dtype: int64"
      ]
     },
     "execution_count": 417,
     "metadata": {},
     "output_type": "execute_result"
    }
   ],
   "source": [
    "data['ForagingGround'].value_counts()"
   ]
  },
  {
   "cell_type": "code",
   "execution_count": 418,
   "metadata": {},
   "outputs": [
    {
     "data": {
      "text/plain": [
       "0            Net\n",
       "1            Net\n",
       "2            Net\n",
       "3            Net\n",
       "4        Beached\n",
       "          ...   \n",
       "18057        Net\n",
       "18058        Net\n",
       "18059        Net\n",
       "18060        Net\n",
       "18061        Net\n",
       "Name: CaptureMethod, Length: 18062, dtype: object"
      ]
     },
     "execution_count": 418,
     "metadata": {},
     "output_type": "execute_result"
    }
   ],
   "source": [
    "#Column 6 CaptureMethod\n",
    "#Fishing gear or method used by fishers to capture the turtle\n",
    "data['CaptureMethod']"
   ]
  },
  {
   "cell_type": "code",
   "execution_count": 419,
   "metadata": {},
   "outputs": [
    {
     "data": {
      "image/png": "[encoded data removed]",
      "text/plain": [
       "<Figure size 640x480 with 1 Axes>"
      ]
     },
     "metadata": {},
     "output_type": "display_data"
    }
   ],
   "source": [
    "capture_method_counts=data['CaptureMethod'].value_counts()\n",
    "#plotting bar chart\n",
    "plt.bar(capture_method_counts.head(10).index,capture_method_counts.head(10).values,color='skyblue')\n",
    "plt.xlabel('Capture Method')\n",
    "plt.ylabel('Count')\n",
    "plt.title('Counts per Capture Method')\n",
    "plt.xticks(rotation='vertical')\n",
    "plt.show()"
   ]
  },
  {
   "cell_type": "code",
   "execution_count": 420,
   "metadata": {},
   "outputs": [
    {
     "data": {
      "text/plain": [
       "0        Fisher_1072\n",
       "1         Fisher_520\n",
       "2        Fisher_1669\n",
       "3        Fisher_1798\n",
       "4        Fisher_1918\n",
       "            ...     \n",
       "18057     Fisher_569\n",
       "18058     Fisher_125\n",
       "18059    Fisher_1343\n",
       "18060    Fisher_1551\n",
       "18061    Fisher_1551\n",
       "Name: Fisher, Length: 18062, dtype: object"
      ]
     },
     "execution_count": 420,
     "metadata": {},
     "output_type": "execute_result"
    }
   ],
   "source": [
    "# Column Fisher \"Name of the fisher who captured the turtle\"\n",
    "data['Fisher']"
   ]
  },
  {
   "cell_type": "code",
   "execution_count": 421,
   "metadata": {},
   "outputs": [
    {
     "data": {
      "image/png": "[encoded data removed]",
      "text/plain": [
       "<Figure size 640x480 with 1 Axes>"
      ]
     },
     "metadata": {},
     "output_type": "display_data"
    }
   ],
   "source": [
    "counts_per_fisher=data['Fisher'].value_counts()\n",
    "plt.bar(counts_per_fisher.head(10).index,counts_per_fisher.head(10).values,color='skyblue')\n",
    "plt.xlabel('Counts per Fisher')\n",
    "plt.ylabel('Count')\n",
    "plt.title('Counts per Fisher')\n",
    "plt.xticks(rotation='vertical')\n",
    "plt.show()"
   ]
  },
  {
   "cell_type": "code",
   "execution_count": 422,
   "metadata": {},
   "outputs": [
    {
     "data": {
      "text/plain": [
       "0        LandingSite_CaptureSiteCategory_2\n",
       "1        LandingSite_CaptureSiteCategory_2\n",
       "2        LandingSite_CaptureSiteCategory_2\n",
       "3        LandingSite_CaptureSiteCategory_2\n",
       "4        LandingSite_CaptureSiteCategory_2\n",
       "                       ...                \n",
       "18057    LandingSite_CaptureSiteCategory_1\n",
       "18058    LandingSite_CaptureSiteCategory_1\n",
       "18059    LandingSite_CaptureSiteCategory_1\n",
       "18060    LandingSite_CaptureSiteCategory_1\n",
       "18061    LandingSite_CaptureSiteCategory_1\n",
       "Name: LandingSite, Length: 18062, dtype: object"
      ]
     },
     "execution_count": 422,
     "metadata": {},
     "output_type": "execute_result"
    }
   ],
   "source": [
    "#Column \"Landing_Site\",\"Section of beach where turtle is landed.\"\n",
    "data['LandingSite']"
   ]
  },
  {
   "cell_type": "code",
   "execution_count": 423,
   "metadata": {},
   "outputs": [
    {
     "data": {
      "image/png": "[encoded data removed]",
      "text/plain": [
       "<Figure size 640x480 with 1 Axes>"
      ]
     },
     "metadata": {},
     "output_type": "display_data"
    }
   ],
   "source": [
    "landing_site_counts=data['LandingSite'].value_counts()\n",
    "plt.bar(landing_site_counts.head(10).index,landing_site_counts.head(10).values,color='skyblue')\n",
    "plt.xlabel('Landing Site Counts')\n",
    "plt.ylabel('Count')\n",
    "plt.title('Landing Site Counts')\n",
    "plt.xticks(rotation='vertical')\n",
    "plt.show()"
   ]
  },
  {
   "cell_type": "code",
   "execution_count": 424,
   "metadata": {},
   "outputs": [
    {
     "data": {
      "text/plain": [
       "0        Species_6\n",
       "1        Species_6\n",
       "2        Species_5\n",
       "3        Species_6\n",
       "4        Species_5\n",
       "           ...    \n",
       "18057    Species_5\n",
       "18058    Species_6\n",
       "18059    Species_5\n",
       "18060    Species_5\n",
       "18061    Species_6\n",
       "Name: Species, Length: 18062, dtype: object"
      ]
     },
     "execution_count": 424,
     "metadata": {},
     "output_type": "execute_result"
    }
   ],
   "source": [
    "# Column \"Species\",\"Species of turtle (e.g. green turtle, hawksbill, loggerhead etc.)\"\n",
    "data['Species']"
   ]
  },
  {
   "cell_type": "code",
   "execution_count": 425,
   "metadata": {},
   "outputs": [
    {
     "data": {
      "image/png": "[encoded data removed]",
      "text/plain": [
       "<Figure size 640x480 with 1 Axes>"
      ]
     },
     "metadata": {},
     "output_type": "display_data"
    }
   ],
   "source": [
    "turtles_caught_per_species=data['Species'].value_counts()\n",
    "plt.bar(turtles_caught_per_species.head(10).index,turtles_caught_per_species.head(10).values,color='skyblue')\n",
    "plt.xlabel('Turtles Caught Per Species')\n",
    "plt.ylabel('Count')\n",
    "plt.title('Turtles Caught Per Species')\n",
    "plt.xticks(rotation='vertical')\n",
    "plt.show()"
   ]
  },
  {
   "cell_type": "code",
   "execution_count": 426,
   "metadata": {},
   "outputs": [
    {
     "data": {
      "text/plain": [
       "0               CC00147\n",
       "1                  W442\n",
       "2                KE0376\n",
       "3               CC00302\n",
       "4        NotTagged_0113\n",
       "              ...      \n",
       "18057           KES1828\n",
       "18058           KES0563\n",
       "18059           KES1833\n",
       "18060           KES1831\n",
       "18061           KES1432\n",
       "Name: Tag_1, Length: 18062, dtype: object"
      ]
     },
     "execution_count": 426,
     "metadata": {},
     "output_type": "execute_result"
    }
   ],
   "source": [
    "# Column \"Tag_1\",\"Individual / unique number used to identify a turtle. \n",
    "# Each turtle that is captured is tagged. \n",
    "# Formats of tag numbers have been changed over years, although turtles retain their old tags even when recaptured (unless the tags are about to fall or are too tight, then they are replaced).\"\n",
    "data['Tag_1']"
   ]
  },
  {
   "cell_type": "code",
   "execution_count": 427,
   "metadata": {},
   "outputs": [],
   "source": [
    "mode=data['Tag_1'].mode()[0]\n",
    "data['Tag_1']=data['Tag_1'].fillna(mode)"
   ]
  },
  {
   "cell_type": "code",
   "execution_count": 428,
   "metadata": {},
   "outputs": [
    {
     "data": {
      "text/plain": [
       "0"
      ]
     },
     "execution_count": 428,
     "metadata": {},
     "output_type": "execute_result"
    }
   ],
   "source": [
    "data['Tag_1'].isna().sum()"
   ]
  },
  {
   "cell_type": "code",
   "execution_count": 429,
   "metadata": {},
   "outputs": [
    {
     "data": {
      "image/png": "[encoded data removed]",
      "text/plain": [
       "<Figure size 640x480 with 1 Axes>"
      ]
     },
     "metadata": {},
     "output_type": "display_data"
    }
   ],
   "source": [
    "most_captured=data['Tag_1'].value_counts()\n",
    "plt.bar(most_captured.head(20).index,most_captured.head(20).values,color='skyblue')\n",
    "plt.xlabel('Most Captured')\n",
    "plt.ylabel('Count')\n",
    "plt.title('Most Captured Counts')\n",
    "plt.xticks(rotation='vertical')\n",
    "plt.show()"
   ]
  },
  {
   "cell_type": "code",
   "execution_count": 430,
   "metadata": {},
   "outputs": [
    {
     "data": {
      "text/plain": [
       "CCW_cm\n",
       "40.00    183\n",
       "38.00    149\n",
       "39.00    145\n",
       "42.00    142\n",
       "41.00    139\n",
       "        ... \n",
       "11.40      1\n",
       "53.13      1\n",
       "53.03      1\n",
       "29.97      1\n",
       "50.57      1\n",
       "Name: count, Length: 1263, dtype: int64"
      ]
     },
     "execution_count": 430,
     "metadata": {},
     "output_type": "execute_result"
    }
   ],
   "source": [
    "#\"CCW_cm\",\"Central Carapace Width (Biometric measurement). Measured in centimetres\"\n",
    "data['CCW_cm'].value_counts()"
   ]
  },
  {
   "cell_type": "code",
   "execution_count": 431,
   "metadata": {},
   "outputs": [],
   "source": [
    "#Column \"Weight_Kg\",\"(Biometric measurement). Measured in Kgs\"\n",
    "weight_counts=data['Weight_Kg'].value_counts()"
   ]
  },
  {
   "cell_type": "code",
   "execution_count": 432,
   "metadata": {},
   "outputs": [
    {
     "data": {
      "image/png": "[encoded data removed]",
      "text/plain": [
       "<Figure size 640x480 with 1 Axes>"
      ]
     },
     "metadata": {},
     "output_type": "display_data"
    }
   ],
   "source": [
    "plt.bar(weight_counts.index,weight_counts.values,color='skyblue')\n",
    "plt.xlabel('Weight')\n",
    "plt.ylabel('Count')\n",
    "plt.title('Count per Weight')\n",
    "plt.xticks(rotation='vertical')\n",
    "plt.show()"
   ]
  },
  {
   "cell_type": "code",
   "execution_count": 433,
   "metadata": {},
   "outputs": [],
   "source": [
    "median_value=data['Weight_Kg'].median()\n",
    "data['Weight_Kg']=data['Weight_Kg'].fillna(median_value)"
   ]
  },
  {
   "cell_type": "code",
   "execution_count": 434,
   "metadata": {},
   "outputs": [
    {
     "data": {
      "text/plain": [
       "0"
      ]
     },
     "execution_count": 434,
     "metadata": {},
     "output_type": "execute_result"
    }
   ],
   "source": [
    "data['Weight_Kg'].isna().sum()"
   ]
  },
  {
   "cell_type": "code",
   "execution_count": 435,
   "metadata": {},
   "outputs": [
    {
     "data": {
      "text/plain": [
       "Sex\n",
       "Unknown         13578\n",
       "Female            113\n",
       "Male               39\n",
       "Not_Recorded        2\n",
       "Name: count, dtype: int64"
      ]
     },
     "execution_count": 435,
     "metadata": {},
     "output_type": "execute_result"
    }
   ],
   "source": [
    "#Column \"Sex\",\"Gender of the turtle\n",
    "data['Sex'].value_counts()"
   ]
  },
  {
   "cell_type": "code",
   "execution_count": 436,
   "metadata": {},
   "outputs": [],
   "source": [
    "most_frequent_sex = data['Sex'].mode()[0]\n",
    "data['Sex'].fillna(most_frequent_sex , inplace=True)"
   ]
  },
  {
   "cell_type": "code",
   "execution_count": 437,
   "metadata": {},
   "outputs": [
    {
     "data": {
      "text/plain": [
       "0                                   algae at rear of shell\n",
       "1        multiple b's on front flippers&  a lot of alga...\n",
       "2                                                    clean\n",
       "3        1 b 3 CS+ calcerous algae at rear end of shell...\n",
       "4        very lively+ right eye is hanging out + swolle...\n",
       "                               ...                        \n",
       "18057                   White calcareous algae on carapace\n",
       "18058    Calcareous + green algae on carapace\\nBarnacle...\n",
       "18059                                         Clean turtle\n",
       "18060    Green algae on carapace\\ntip of left supra mis...\n",
       "18061    Thick pink patches of calcareous algae on cara...\n",
       "Name: TurtleCharacteristics, Length: 18062, dtype: object"
      ]
     },
     "execution_count": 437,
     "metadata": {},
     "output_type": "execute_result"
    }
   ],
   "source": [
    " # Turtle Characteristics\",\"Description of turtles (mostly unusual occurrences e.g. disease, injury, parasites etc. \n",
    " # Usually as short textual description\"\n",
    "data['TurtleCharacteristics']"
   ]
  },
  {
   "cell_type": "code",
   "execution_count": 438,
   "metadata": {},
   "outputs": [],
   "source": [
    "data['TurtleCharacteristics'].fillna('No description available', inplace=True)\n"
   ]
  },
  {
   "cell_type": "code",
   "execution_count": 439,
   "metadata": {},
   "outputs": [
    {
     "data": {
      "text/plain": [
       "0        Released\n",
       "1        Released\n",
       "2        Released\n",
       "3        Released\n",
       "4        Released\n",
       "           ...   \n",
       "18057    Released\n",
       "18058    Released\n",
       "18059    Released\n",
       "18060    Released\n",
       "18061    Released\n",
       "Name: Status, Length: 18062, dtype: object"
      ]
     },
     "execution_count": 439,
     "metadata": {},
     "output_type": "execute_result"
    }
   ],
   "source": [
    " # Column \"Status\",\"Indicates whether the turtle is released or admitted to TRC\"\n",
    "data['Status']"
   ]
  },
  {
   "cell_type": "code",
   "execution_count": 440,
   "metadata": {},
   "outputs": [],
   "source": [
    "mode_value=data['Status'].mode()[0]\n",
    "data['Status']=data['Status'].fillna(mode_value)"
   ]
  },
  {
   "cell_type": "code",
   "execution_count": 441,
   "metadata": {},
   "outputs": [
    {
     "data": {
      "text/plain": [
       "0"
      ]
     },
     "execution_count": 441,
     "metadata": {},
     "output_type": "execute_result"
    }
   ],
   "source": [
    "data['Status'].isna().sum()"
   ]
  },
  {
   "cell_type": "code",
   "execution_count": 442,
   "metadata": {},
   "outputs": [
    {
     "data": {
      "text/plain": [
       "Status\n",
       "Released                                          17243\n",
       "Admitted                                            292\n",
       "Not_Recorded                                         28\n",
       " shell is beginning to flake                          7\n",
       " green algae on carapace                              7\n",
       "                                                  ...  \n",
       " barnacles on plastron (removed)                      1\n",
       " notches on RMS                                       1\n",
       " small barnacles around neck and rear flippers        1\n",
       " 5 RLS                                                1\n",
       " barnacles on plastron                                1\n",
       "Name: count, Length: 439, dtype: int64"
      ]
     },
     "execution_count": 442,
     "metadata": {},
     "output_type": "execute_result"
    }
   ],
   "source": [
    "data['Status'].value_counts()"
   ]
  },
  {
   "cell_type": "code",
   "execution_count": 443,
   "metadata": {},
   "outputs": [
    {
     "data": {
      "text/plain": [
       "0        ReleaseSite_50\n",
       "1        ReleaseSite_62\n",
       "2        ReleaseSite_50\n",
       "3        ReleaseSite_50\n",
       "4        ReleaseSite_62\n",
       "              ...      \n",
       "18057    ReleaseSite_68\n",
       "18058    ReleaseSite_68\n",
       "18059    ReleaseSite_68\n",
       "18060    ReleaseSite_68\n",
       "18061    ReleaseSite_37\n",
       "Name: ReleaseSite, Length: 18062, dtype: object"
      ]
     },
     "execution_count": 443,
     "metadata": {},
     "output_type": "execute_result"
    }
   ],
   "source": [
    "# Column \"Release Site\",\"Site where the turtle is released\"\n",
    "data['ReleaseSite']"
   ]
  },
  {
   "cell_type": "code",
   "execution_count": 444,
   "metadata": {},
   "outputs": [],
   "source": [
    "mode_value=data['ReleaseSite'].mode()[0]\n",
    "data['ReleaseSite']=data['ReleaseSite'].fillna(mode_value)"
   ]
  },
  {
   "cell_type": "code",
   "execution_count": 445,
   "metadata": {},
   "outputs": [
    {
     "data": {
      "image/png": "[encoded data removed]",
      "text/plain": [
       "<Figure size 640x480 with 1 Axes>"
      ]
     },
     "metadata": {},
     "output_type": "display_data"
    }
   ],
   "source": [
    "most_common_release_sites=data['ReleaseSite'].value_counts()\n",
    "plt.bar(most_common_release_sites.head(10).index,most_common_release_sites.head(10).values,color='skyblue')\n",
    "plt.xlabel('Most Common Release Sites')\n",
    "plt.ylabel('Count')\n",
    "plt.title('Most Common Release Sites')\n",
    "plt.xticks(rotation='vertical')\n",
    "plt.show()"
   ]
  },
  {
   "cell_type": "code",
   "execution_count": 446,
   "metadata": {},
   "outputs": [
    {
     "data": {
      "text/plain": [
       "0        22/12/00\n",
       "1        28/10/01\n",
       "2        01/11/01\n",
       "3        11/03/02\n",
       "4        08/08/02\n",
       "           ...   \n",
       "18057    18/12/18\n",
       "18058    18/12/18\n",
       "18059    24/12/18\n",
       "18060    24/12/18\n",
       "18061    28/12/18\n",
       "Name: Date_TimeRelease, Length: 18062, dtype: object"
      ]
     },
     "execution_count": 446,
     "metadata": {},
     "output_type": "execute_result"
    }
   ],
   "source": [
    "# Column Date_Release\",\"Date turtle is released\"\n",
    "data['Date_TimeRelease']"
   ]
  },
  {
   "cell_type": "code",
   "execution_count": 447,
   "metadata": {},
   "outputs": [],
   "source": [
    "#Convert Date_TimeReleased to datetime object\n",
    "data['Date_TimeRelease']=pd.to_datetime(data['Date_TimeRelease'], format=\"%d/%m/%y\",errors='coerce')"
   ]
  },
  {
   "cell_type": "code",
   "execution_count": 448,
   "metadata": {},
   "outputs": [],
   "source": [
    "#Interpolate missing values\n",
    "data['Date_TimeRelease'].interpolate(method='linear',inplace=True)"
   ]
  },
  {
   "cell_type": "code",
   "execution_count": 449,
   "metadata": {},
   "outputs": [
    {
     "data": {
      "text/plain": [
       "0       2000-12-22\n",
       "1       2001-10-28\n",
       "2       2001-11-01\n",
       "3       2002-03-11\n",
       "4       2002-08-08\n",
       "           ...    \n",
       "18057   2018-12-18\n",
       "18058   2018-12-18\n",
       "18059   2018-12-24\n",
       "18060   2018-12-24\n",
       "18061   2018-12-28\n",
       "Name: Date_TimeRelease, Length: 18062, dtype: datetime64[ns]"
      ]
     },
     "execution_count": 449,
     "metadata": {},
     "output_type": "execute_result"
    }
   ],
   "source": [
    "data['Date_TimeRelease']"
   ]
  },
  {
   "cell_type": "code",
   "execution_count": 450,
   "metadata": {},
   "outputs": [],
   "source": [
    "data['Day(R)'] = data['Date_TimeRelease'].dt.day\n",
    "data['Month(R)'] = data['Date_TimeRelease'].dt.month\n",
    "data['Year(R)'] = data['Date_TimeRelease'].dt.year"
   ]
  },
  {
   "cell_type": "code",
   "execution_count": 451,
   "metadata": {},
   "outputs": [
    {
     "data": {
      "text/plain": [
       "Year(R)\n",
       "2012    1684\n",
       "2014    1657\n",
       "2015    1628\n",
       "2017    1589\n",
       "2018    1571\n",
       "2016    1426\n",
       "2011    1372\n",
       "2013    1371\n",
       "2010    1045\n",
       "2008     771\n",
       "2007     601\n",
       "2009     590\n",
       "2005     527\n",
       "2004     514\n",
       "2006     494\n",
       "2003     479\n",
       "2002     358\n",
       "2001     260\n",
       "2000      66\n",
       "1999      46\n",
       "1998      12\n",
       "2028       1\n",
       "Name: count, dtype: int64"
      ]
     },
     "execution_count": 451,
     "metadata": {},
     "output_type": "execute_result"
    }
   ],
   "source": [
    "data['Year(R)'].value_counts()"
   ]
  },
  {
   "cell_type": "code",
   "execution_count": 452,
   "metadata": {},
   "outputs": [],
   "source": [
    "most_common_release_year=data['Year(R)'].value_counts()"
   ]
  },
  {
   "cell_type": "code",
   "execution_count": 453,
   "metadata": {},
   "outputs": [
    {
     "data": {
      "text/plain": [
       "Year(R)\n",
       "2012    1684\n",
       "2014    1657\n",
       "2015    1628\n",
       "2017    1589\n",
       "2018    1571\n",
       "2016    1426\n",
       "2011    1372\n",
       "2013    1371\n",
       "2010    1045\n",
       "2008     771\n",
       "2007     601\n",
       "2009     590\n",
       "2005     527\n",
       "2004     514\n",
       "2006     494\n",
       "2003     479\n",
       "2002     358\n",
       "2001     260\n",
       "2000      66\n",
       "1999      46\n",
       "1998      12\n",
       "2028       1\n",
       "Name: count, dtype: int64"
      ]
     },
     "execution_count": 453,
     "metadata": {},
     "output_type": "execute_result"
    }
   ],
   "source": [
    "most_common_release_year"
   ]
  },
  {
   "cell_type": "code",
   "execution_count": 454,
   "metadata": {},
   "outputs": [
    {
     "data": {
      "image/png": "[encoded data removed]",
      "text/plain": [
       "<Figure size 640x480 with 1 Axes>"
      ]
     },
     "metadata": {},
     "output_type": "display_data"
    }
   ],
   "source": [
    "plt.bar(most_common_release_year.index,most_common_release_year.values,color='skyblue')\n",
    "plt.xlabel('Most Common Release Year')\n",
    "plt.ylabel('Count')\n",
    "plt.title('Most Common Release Year')\n",
    "plt.xticks(rotation='vertical')\n",
    "plt.show()"
   ]
  },
  {
   "cell_type": "code",
   "execution_count": 455,
   "metadata": {},
   "outputs": [
    {
     "data": {
      "text/plain": [
       "Rescue_ID                0\n",
       "Date_TimeCaught          0\n",
       "Researcher               0\n",
       "CaptureSite              0\n",
       "ForagingGround           0\n",
       "CaptureMethod            0\n",
       "Fisher                   0\n",
       "LandingSite              0\n",
       "Species                  0\n",
       "Tag_1                    0\n",
       "CCL_cm                   0\n",
       "CCW_cm                   0\n",
       "Weight_Kg                0\n",
       "Sex                      0\n",
       "TurtleCharacteristics    0\n",
       "Status                   0\n",
       "ReleaseSite              0\n",
       "Date_TimeRelease         0\n",
       "Year                     0\n",
       "Rescue_number            0\n",
       "Month                    0\n",
       "Day                      0\n",
       "Year(1)                  0\n",
       "Identical                0\n",
       "Day(R)                   0\n",
       "Month(R)                 0\n",
       "Year(R)                  0\n",
       "dtype: int64"
      ]
     },
     "execution_count": 455,
     "metadata": {},
     "output_type": "execute_result"
    }
   ],
   "source": [
    "#check for missing values\n",
    "data.isna().sum()"
   ]
  },
  {
   "cell_type": "code",
   "execution_count": 456,
   "metadata": {},
   "outputs": [
    {
     "data": {
      "text/plain": [
       "0       2000-12-22\n",
       "1       2001-10-28\n",
       "2       2001-11-01\n",
       "3       2002-03-11\n",
       "4       2002-08-08\n",
       "           ...    \n",
       "18057   2018-12-18\n",
       "18058   2018-12-18\n",
       "18059   2018-12-24\n",
       "18060   2018-12-24\n",
       "18061   2018-12-28\n",
       "Name: Date_TimeCaught, Length: 18062, dtype: datetime64[ns]"
      ]
     },
     "execution_count": 456,
     "metadata": {},
     "output_type": "execute_result"
    }
   ],
   "source": [
    "data['Date_TimeCaught']"
   ]
  },
  {
   "cell_type": "code",
   "execution_count": 457,
   "metadata": {},
   "outputs": [
    {
     "name": "stdout",
     "output_type": "stream",
     "text": [
      "      Date_TimeCaught Date_TimeRelease  Duration\n",
      "0          2000-12-22       2000-12-22         0\n",
      "1          2001-10-28       2001-10-28         0\n",
      "2          2001-11-01       2001-11-01         0\n",
      "3          2002-03-11       2002-03-11         0\n",
      "4          2002-08-08       2002-08-08         0\n",
      "...               ...              ...       ...\n",
      "18057      2018-12-18       2018-12-18         0\n",
      "18058      2018-12-18       2018-12-18         0\n",
      "18059      2018-12-24       2018-12-24         0\n",
      "18060      2018-12-24       2018-12-24         0\n",
      "18061      2018-12-28       2018-12-28         0\n",
      "\n",
      "[18062 rows x 3 columns]\n"
     ]
    }
   ],
   "source": [
    "# Convert date strings to datetime objects\n",
    "data['Date_TimeRelease'] = pd.to_datetime(data['Date_TimeRelease'])\n",
    "data['Date_TimeCaught'] = pd.to_datetime(data['Date_TimeCaught'])\n",
    "\n",
    "# Calculate the duration in days\n",
    "data['Duration'] = (data['Date_TimeRelease'] - data['Date_TimeCaught']).dt.days\n",
    "\n",
    "# Display the DataFrame with the calculated duration\n",
    "print(data[['Date_TimeCaught', 'Date_TimeRelease', 'Duration']])"
   ]
  },
  {
   "cell_type": "code",
   "execution_count": 458,
   "metadata": {},
   "outputs": [],
   "source": [
    "# Calculate the counts of unique values in the 'Duration' column\n",
    "duration_counts = data['Duration'].value_counts().reset_index()\n",
    "# Rename the columns for clarity\n",
    "duration_counts.columns = ['Duration', 'Count']"
   ]
  },
  {
   "cell_type": "code",
   "execution_count": 459,
   "metadata": {},
   "outputs": [
    {
     "data": {
      "text/html": [
       "<div>\n",
       "<style scoped>\n",
       "    .dataframe tbody tr th:only-of-type {\n",
       "        vertical-align: middle;\n",
       "    }\n",
       "\n",
       "    .dataframe tbody tr th {\n",
       "        vertical-align: top;\n",
       "    }\n",
       "\n",
       "    .dataframe thead th {\n",
       "        text-align: right;\n",
       "    }\n",
       "</style>\n",
       "<table border=\"1\" class=\"dataframe\">\n",
       "  <thead>\n",
       "    <tr style=\"text-align: right;\">\n",
       "      <th></th>\n",
       "      <th>Duration</th>\n",
       "      <th>Count</th>\n",
       "    </tr>\n",
       "  </thead>\n",
       "  <tbody>\n",
       "    <tr>\n",
       "      <th>0</th>\n",
       "      <td>0</td>\n",
       "      <td>11192</td>\n",
       "    </tr>\n",
       "    <tr>\n",
       "      <th>1</th>\n",
       "      <td>1</td>\n",
       "      <td>545</td>\n",
       "    </tr>\n",
       "    <tr>\n",
       "      <th>2</th>\n",
       "      <td>-1</td>\n",
       "      <td>164</td>\n",
       "    </tr>\n",
       "    <tr>\n",
       "      <th>3</th>\n",
       "      <td>2</td>\n",
       "      <td>156</td>\n",
       "    </tr>\n",
       "    <tr>\n",
       "      <th>4</th>\n",
       "      <td>3</td>\n",
       "      <td>140</td>\n",
       "    </tr>\n",
       "    <tr>\n",
       "      <th>...</th>\n",
       "      <td>...</td>\n",
       "      <td>...</td>\n",
       "    </tr>\n",
       "    <tr>\n",
       "      <th>1350</th>\n",
       "      <td>2355</td>\n",
       "      <td>1</td>\n",
       "    </tr>\n",
       "    <tr>\n",
       "      <th>1351</th>\n",
       "      <td>2324</td>\n",
       "      <td>1</td>\n",
       "    </tr>\n",
       "    <tr>\n",
       "      <th>1352</th>\n",
       "      <td>2285</td>\n",
       "      <td>1</td>\n",
       "    </tr>\n",
       "    <tr>\n",
       "      <th>1353</th>\n",
       "      <td>2254</td>\n",
       "      <td>1</td>\n",
       "    </tr>\n",
       "    <tr>\n",
       "      <th>1354</th>\n",
       "      <td>-177</td>\n",
       "      <td>1</td>\n",
       "    </tr>\n",
       "  </tbody>\n",
       "</table>\n",
       "<p>1355 rows × 2 columns</p>\n",
       "</div>"
      ],
      "text/plain": [
       "      Duration  Count\n",
       "0            0  11192\n",
       "1            1    545\n",
       "2           -1    164\n",
       "3            2    156\n",
       "4            3    140\n",
       "...        ...    ...\n",
       "1350      2355      1\n",
       "1351      2324      1\n",
       "1352      2285      1\n",
       "1353      2254      1\n",
       "1354      -177      1\n",
       "\n",
       "[1355 rows x 2 columns]"
      ]
     },
     "execution_count": 459,
     "metadata": {},
     "output_type": "execute_result"
    }
   ],
   "source": [
    "duration_counts"
   ]
  },
  {
   "cell_type": "code",
   "execution_count": 460,
   "metadata": {},
   "outputs": [],
   "source": [
    "# Filter only positive durations\n",
    "duration_counts = duration_counts[duration_counts['Duration'] >= 0]"
   ]
  },
  {
   "cell_type": "code",
   "execution_count": 462,
   "metadata": {},
   "outputs": [
    {
     "data": {
      "text/html": [
       "<div>\n",
       "<style scoped>\n",
       "    .dataframe tbody tr th:only-of-type {\n",
       "        vertical-align: middle;\n",
       "    }\n",
       "\n",
       "    .dataframe tbody tr th {\n",
       "        vertical-align: top;\n",
       "    }\n",
       "\n",
       "    .dataframe thead th {\n",
       "        text-align: right;\n",
       "    }\n",
       "</style>\n",
       "<table border=\"1\" class=\"dataframe\">\n",
       "  <thead>\n",
       "    <tr style=\"text-align: right;\">\n",
       "      <th></th>\n",
       "      <th>Duration</th>\n",
       "      <th>Count</th>\n",
       "    </tr>\n",
       "  </thead>\n",
       "  <tbody>\n",
       "    <tr>\n",
       "      <th>0</th>\n",
       "      <td>0</td>\n",
       "      <td>11192</td>\n",
       "    </tr>\n",
       "    <tr>\n",
       "      <th>1</th>\n",
       "      <td>1</td>\n",
       "      <td>545</td>\n",
       "    </tr>\n",
       "    <tr>\n",
       "      <th>3</th>\n",
       "      <td>2</td>\n",
       "      <td>156</td>\n",
       "    </tr>\n",
       "    <tr>\n",
       "      <th>4</th>\n",
       "      <td>3</td>\n",
       "      <td>140</td>\n",
       "    </tr>\n",
       "    <tr>\n",
       "      <th>6</th>\n",
       "      <td>4</td>\n",
       "      <td>117</td>\n",
       "    </tr>\n",
       "    <tr>\n",
       "      <th>...</th>\n",
       "      <td>...</td>\n",
       "      <td>...</td>\n",
       "    </tr>\n",
       "    <tr>\n",
       "      <th>1349</th>\n",
       "      <td>2386</td>\n",
       "      <td>1</td>\n",
       "    </tr>\n",
       "    <tr>\n",
       "      <th>1350</th>\n",
       "      <td>2355</td>\n",
       "      <td>1</td>\n",
       "    </tr>\n",
       "    <tr>\n",
       "      <th>1351</th>\n",
       "      <td>2324</td>\n",
       "      <td>1</td>\n",
       "    </tr>\n",
       "    <tr>\n",
       "      <th>1352</th>\n",
       "      <td>2285</td>\n",
       "      <td>1</td>\n",
       "    </tr>\n",
       "    <tr>\n",
       "      <th>1353</th>\n",
       "      <td>2254</td>\n",
       "      <td>1</td>\n",
       "    </tr>\n",
       "  </tbody>\n",
       "</table>\n",
       "<p>624 rows × 2 columns</p>\n",
       "</div>"
      ],
      "text/plain": [
       "      Duration  Count\n",
       "0            0  11192\n",
       "1            1    545\n",
       "3            2    156\n",
       "4            3    140\n",
       "6            4    117\n",
       "...        ...    ...\n",
       "1349      2386      1\n",
       "1350      2355      1\n",
       "1351      2324      1\n",
       "1352      2285      1\n",
       "1353      2254      1\n",
       "\n",
       "[624 rows x 2 columns]"
      ]
     },
     "execution_count": 462,
     "metadata": {},
     "output_type": "execute_result"
    }
   ],
   "source": [
    " #Sort the DataFrame by counts in descending order\n",
    "duration_counts = duration_counts.sort_values(by='Count', ascending=False)\n",
    "duration_counts"
   ]
  },
  {
   "cell_type": "code",
   "execution_count": 463,
   "metadata": {},
   "outputs": [
    {
     "name": "stdout",
     "output_type": "stream",
     "text": [
      "Stored 'data' (DataFrame)\n"
     ]
    }
   ],
   "source": [
    "#store dataframe\n",
    "%store data"
   ]
  },
  {
   "cell_type": "code",
   "execution_count": null,
   "metadata": {},
   "outputs": [],
   "source": []
  }
 ],
 "metadata": {
  "kernelspec": {
   "display_name": "myenv",
   "language": "python",
   "name": "python3"
  },
  "language_info": {
   "codemirror_mode": {
    "name": "ipython",
    "version": 3
   },
   "file_extension": ".py",
   "mimetype": "text/x-python",
   "name": "python",
   "nbconvert_exporter": "python",
   "pygments_lexer": "ipython3",
   "version": "3.9.16"
  }
 },
 "nbformat": 4,
 "nbformat_minor": 2
}
