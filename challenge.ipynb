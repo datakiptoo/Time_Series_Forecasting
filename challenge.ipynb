{
 "cells": [
  {
   "cell_type": "code",
   "execution_count": 104,
   "metadata": {},
   "outputs": [],
   "source": [
    "#librariries to import \n",
    "import pandas as pd\n",
    "import numpy as np\n",
    "import matplotlib.pyplot as plt"
   ]
  },
  {
   "cell_type": "code",
   "execution_count": 105,
   "metadata": {},
   "outputs": [],
   "source": [
    "#read the data\n",
    "data=pd.read_csv(\"train.csv\")"
   ]
  },
  {
   "cell_type": "code",
   "execution_count": 106,
   "metadata": {},
   "outputs": [
    {
     "data": {
      "text/html": [
       "<div>\n",
       "<style scoped>\n",
       "    .dataframe tbody tr th:only-of-type {\n",
       "        vertical-align: middle;\n",
       "    }\n",
       "\n",
       "    .dataframe tbody tr th {\n",
       "        vertical-align: top;\n",
       "    }\n",
       "\n",
       "    .dataframe thead th {\n",
       "        text-align: right;\n",
       "    }\n",
       "</style>\n",
       "<table border=\"1\" class=\"dataframe\">\n",
       "  <thead>\n",
       "    <tr style=\"text-align: right;\">\n",
       "      <th></th>\n",
       "      <th>Rescue_ID</th>\n",
       "      <th>Date_TimeCaught</th>\n",
       "      <th>Researcher</th>\n",
       "      <th>CaptureSite</th>\n",
       "      <th>ForagingGround</th>\n",
       "      <th>CaptureMethod</th>\n",
       "      <th>Fisher</th>\n",
       "      <th>LandingSite</th>\n",
       "      <th>Species</th>\n",
       "      <th>Tag_1</th>\n",
       "      <th>...</th>\n",
       "      <th>Lost_Tags</th>\n",
       "      <th>T_Number</th>\n",
       "      <th>CCL_cm</th>\n",
       "      <th>CCW_cm</th>\n",
       "      <th>Weight_Kg</th>\n",
       "      <th>Sex</th>\n",
       "      <th>TurtleCharacteristics</th>\n",
       "      <th>Status</th>\n",
       "      <th>ReleaseSite</th>\n",
       "      <th>Date_TimeRelease</th>\n",
       "    </tr>\n",
       "  </thead>\n",
       "  <tbody>\n",
       "    <tr>\n",
       "      <th>0</th>\n",
       "      <td>2000_RE_0060</td>\n",
       "      <td>2000-12-22</td>\n",
       "      <td>Researcher_25</td>\n",
       "      <td>CaptureSite_0</td>\n",
       "      <td>Ocean</td>\n",
       "      <td>Net</td>\n",
       "      <td>Fisher_1072</td>\n",
       "      <td>LandingSite_CaptureSiteCategory_2</td>\n",
       "      <td>Species_6</td>\n",
       "      <td>CC00147</td>\n",
       "      <td>...</td>\n",
       "      <td>NaN</td>\n",
       "      <td>NaN</td>\n",
       "      <td>64.70</td>\n",
       "      <td>62.60</td>\n",
       "      <td>NaN</td>\n",
       "      <td>Unknown</td>\n",
       "      <td>algae at rear of shell</td>\n",
       "      <td>Released</td>\n",
       "      <td>ReleaseSite_50</td>\n",
       "      <td>22/12/00</td>\n",
       "    </tr>\n",
       "    <tr>\n",
       "      <th>1</th>\n",
       "      <td>2001_RE_0187</td>\n",
       "      <td>2001-10-28</td>\n",
       "      <td>Researcher_6</td>\n",
       "      <td>CaptureSite_0</td>\n",
       "      <td>Ocean</td>\n",
       "      <td>Net</td>\n",
       "      <td>Fisher_520</td>\n",
       "      <td>LandingSite_CaptureSiteCategory_2</td>\n",
       "      <td>Species_6</td>\n",
       "      <td>W442</td>\n",
       "      <td>...</td>\n",
       "      <td>NaN</td>\n",
       "      <td>NaN</td>\n",
       "      <td>35.85</td>\n",
       "      <td>31.35</td>\n",
       "      <td>NaN</td>\n",
       "      <td>Unknown</td>\n",
       "      <td>multiple b's on front flippers&amp;  a lot of alga...</td>\n",
       "      <td>Released</td>\n",
       "      <td>ReleaseSite_62</td>\n",
       "      <td>28/10/01</td>\n",
       "    </tr>\n",
       "    <tr>\n",
       "      <th>2</th>\n",
       "      <td>2001_RE_0197</td>\n",
       "      <td>2001-11-01</td>\n",
       "      <td>Researcher_6</td>\n",
       "      <td>CaptureSite_0</td>\n",
       "      <td>Ocean</td>\n",
       "      <td>Net</td>\n",
       "      <td>Fisher_1669</td>\n",
       "      <td>LandingSite_CaptureSiteCategory_2</td>\n",
       "      <td>Species_5</td>\n",
       "      <td>KE0376</td>\n",
       "      <td>...</td>\n",
       "      <td>NaN</td>\n",
       "      <td>NaN</td>\n",
       "      <td>51.80</td>\n",
       "      <td>49.20</td>\n",
       "      <td>NaN</td>\n",
       "      <td>Unknown</td>\n",
       "      <td>clean</td>\n",
       "      <td>Released</td>\n",
       "      <td>ReleaseSite_50</td>\n",
       "      <td>01/11/01</td>\n",
       "    </tr>\n",
       "    <tr>\n",
       "      <th>3</th>\n",
       "      <td>2002_RE_0031</td>\n",
       "      <td>2002-03-11</td>\n",
       "      <td>Researcher_32</td>\n",
       "      <td>CaptureSite_0</td>\n",
       "      <td>Ocean</td>\n",
       "      <td>Net</td>\n",
       "      <td>Fisher_1798</td>\n",
       "      <td>LandingSite_CaptureSiteCategory_2</td>\n",
       "      <td>Species_6</td>\n",
       "      <td>CC00302</td>\n",
       "      <td>...</td>\n",
       "      <td>NaN</td>\n",
       "      <td>NaN</td>\n",
       "      <td>60.50</td>\n",
       "      <td>59.00</td>\n",
       "      <td>NaN</td>\n",
       "      <td>Unknown</td>\n",
       "      <td>1 b 3 CS+ calcerous algae at rear end of shell...</td>\n",
       "      <td>Released</td>\n",
       "      <td>ReleaseSite_50</td>\n",
       "      <td>11/03/02</td>\n",
       "    </tr>\n",
       "    <tr>\n",
       "      <th>4</th>\n",
       "      <td>2002_RE_0118</td>\n",
       "      <td>2002-08-08</td>\n",
       "      <td>Researcher_25</td>\n",
       "      <td>CaptureSite_0</td>\n",
       "      <td>Ocean</td>\n",
       "      <td>Beached</td>\n",
       "      <td>Fisher_1918</td>\n",
       "      <td>LandingSite_CaptureSiteCategory_2</td>\n",
       "      <td>Species_5</td>\n",
       "      <td>NotTagged_0113</td>\n",
       "      <td>...</td>\n",
       "      <td>NaN</td>\n",
       "      <td>NaN</td>\n",
       "      <td>34.70</td>\n",
       "      <td>33.00</td>\n",
       "      <td>NaN</td>\n",
       "      <td>Unknown</td>\n",
       "      <td>very lively+ right eye is hanging out + swolle...</td>\n",
       "      <td>Released</td>\n",
       "      <td>ReleaseSite_62</td>\n",
       "      <td>08/08/02</td>\n",
       "    </tr>\n",
       "    <tr>\n",
       "      <th>5</th>\n",
       "      <td>2002_RE_0119</td>\n",
       "      <td>2002-08-10</td>\n",
       "      <td>Researcher_25</td>\n",
       "      <td>CaptureSite_0</td>\n",
       "      <td>Ocean</td>\n",
       "      <td>Not_Recorded</td>\n",
       "      <td>Fisher_1918</td>\n",
       "      <td>LandingSite_CaptureSiteCategory_2</td>\n",
       "      <td>Species_5</td>\n",
       "      <td>NotTagged_0114</td>\n",
       "      <td>...</td>\n",
       "      <td>NaN</td>\n",
       "      <td>NaN</td>\n",
       "      <td>33.20</td>\n",
       "      <td>30.70</td>\n",
       "      <td>NaN</td>\n",
       "      <td>Unknown</td>\n",
       "      <td>large chip 6 LM</td>\n",
       "      <td>Released</td>\n",
       "      <td>ReleaseSite_8</td>\n",
       "      <td>10/08/02</td>\n",
       "    </tr>\n",
       "    <tr>\n",
       "      <th>6</th>\n",
       "      <td>2002_RE_0214</td>\n",
       "      <td>2002-10-21</td>\n",
       "      <td>Researcher_25</td>\n",
       "      <td>CaptureSite_0</td>\n",
       "      <td>Ocean</td>\n",
       "      <td>Net</td>\n",
       "      <td>Fisher_2013</td>\n",
       "      <td>LandingSite_CaptureSiteCategory_2</td>\n",
       "      <td>Species_6</td>\n",
       "      <td>KA460</td>\n",
       "      <td>...</td>\n",
       "      <td>NaN</td>\n",
       "      <td>NaN</td>\n",
       "      <td>37.40</td>\n",
       "      <td>33.50</td>\n",
       "      <td>NaN</td>\n",
       "      <td>Unknown</td>\n",
       "      <td>green and whitish-pink calcerous algae growth ...</td>\n",
       "      <td>Released</td>\n",
       "      <td>ReleaseSite_62</td>\n",
       "      <td>21/10/02</td>\n",
       "    </tr>\n",
       "    <tr>\n",
       "      <th>7</th>\n",
       "      <td>2002_RE_0215</td>\n",
       "      <td>2002-10-21</td>\n",
       "      <td>Researcher_25</td>\n",
       "      <td>CaptureSite_0</td>\n",
       "      <td>Ocean</td>\n",
       "      <td>Net</td>\n",
       "      <td>Fisher_1815</td>\n",
       "      <td>LandingSite_CaptureSiteCategory_2</td>\n",
       "      <td>Species_6</td>\n",
       "      <td>KA442</td>\n",
       "      <td>...</td>\n",
       "      <td>NaN</td>\n",
       "      <td>NaN</td>\n",
       "      <td>40.30</td>\n",
       "      <td>37.20</td>\n",
       "      <td>NaN</td>\n",
       "      <td>Unknown</td>\n",
       "      <td>calcerous algae growth-especially rear end and...</td>\n",
       "      <td>Released</td>\n",
       "      <td>ReleaseSite_50</td>\n",
       "      <td>21/10/02</td>\n",
       "    </tr>\n",
       "    <tr>\n",
       "      <th>8</th>\n",
       "      <td>2002_RE_0218</td>\n",
       "      <td>2002-10-22</td>\n",
       "      <td>Researcher_30</td>\n",
       "      <td>CaptureSite_0</td>\n",
       "      <td>Ocean</td>\n",
       "      <td>Net</td>\n",
       "      <td>Fisher_1815</td>\n",
       "      <td>LandingSite_CaptureSiteCategory_2</td>\n",
       "      <td>Species_5</td>\n",
       "      <td>KA466</td>\n",
       "      <td>...</td>\n",
       "      <td>NaN</td>\n",
       "      <td>NaN</td>\n",
       "      <td>44.00</td>\n",
       "      <td>43.20</td>\n",
       "      <td>NaN</td>\n",
       "      <td>Unknown</td>\n",
       "      <td>clean shell</td>\n",
       "      <td>Released</td>\n",
       "      <td>ReleaseSite_50</td>\n",
       "      <td>22/10/02</td>\n",
       "    </tr>\n",
       "    <tr>\n",
       "      <th>9</th>\n",
       "      <td>2003_RE_0187</td>\n",
       "      <td>2003-06-09</td>\n",
       "      <td>Researcher_32</td>\n",
       "      <td>CaptureSite_0</td>\n",
       "      <td>Ocean</td>\n",
       "      <td>Net</td>\n",
       "      <td>Fisher_1066</td>\n",
       "      <td>LandingSite_CaptureSiteCategory_2</td>\n",
       "      <td>Species_5</td>\n",
       "      <td>KE1184</td>\n",
       "      <td>...</td>\n",
       "      <td>NaN</td>\n",
       "      <td>NaN</td>\n",
       "      <td>48.30</td>\n",
       "      <td>43.30</td>\n",
       "      <td>NaN</td>\n",
       "      <td>Unknown</td>\n",
       "      <td>10 LMS has a small chip&amp; right rear flipper is...</td>\n",
       "      <td>Released</td>\n",
       "      <td>ReleaseSite_62</td>\n",
       "      <td>NaN</td>\n",
       "    </tr>\n",
       "  </tbody>\n",
       "</table>\n",
       "<p>10 rows × 21 columns</p>\n",
       "</div>"
      ],
      "text/plain": [
       "      Rescue_ID Date_TimeCaught     Researcher    CaptureSite ForagingGround  \\\n",
       "0  2000_RE_0060      2000-12-22  Researcher_25  CaptureSite_0          Ocean   \n",
       "1  2001_RE_0187      2001-10-28   Researcher_6  CaptureSite_0          Ocean   \n",
       "2  2001_RE_0197      2001-11-01   Researcher_6  CaptureSite_0          Ocean   \n",
       "3  2002_RE_0031      2002-03-11  Researcher_32  CaptureSite_0          Ocean   \n",
       "4  2002_RE_0118      2002-08-08  Researcher_25  CaptureSite_0          Ocean   \n",
       "5  2002_RE_0119      2002-08-10  Researcher_25  CaptureSite_0          Ocean   \n",
       "6  2002_RE_0214      2002-10-21  Researcher_25  CaptureSite_0          Ocean   \n",
       "7  2002_RE_0215      2002-10-21  Researcher_25  CaptureSite_0          Ocean   \n",
       "8  2002_RE_0218      2002-10-22  Researcher_30  CaptureSite_0          Ocean   \n",
       "9  2003_RE_0187      2003-06-09  Researcher_32  CaptureSite_0          Ocean   \n",
       "\n",
       "  CaptureMethod       Fisher                        LandingSite    Species  \\\n",
       "0           Net  Fisher_1072  LandingSite_CaptureSiteCategory_2  Species_6   \n",
       "1           Net   Fisher_520  LandingSite_CaptureSiteCategory_2  Species_6   \n",
       "2           Net  Fisher_1669  LandingSite_CaptureSiteCategory_2  Species_5   \n",
       "3           Net  Fisher_1798  LandingSite_CaptureSiteCategory_2  Species_6   \n",
       "4       Beached  Fisher_1918  LandingSite_CaptureSiteCategory_2  Species_5   \n",
       "5  Not_Recorded  Fisher_1918  LandingSite_CaptureSiteCategory_2  Species_5   \n",
       "6           Net  Fisher_2013  LandingSite_CaptureSiteCategory_2  Species_6   \n",
       "7           Net  Fisher_1815  LandingSite_CaptureSiteCategory_2  Species_6   \n",
       "8           Net  Fisher_1815  LandingSite_CaptureSiteCategory_2  Species_5   \n",
       "9           Net  Fisher_1066  LandingSite_CaptureSiteCategory_2  Species_5   \n",
       "\n",
       "            Tag_1  ... Lost_Tags T_Number CCL_cm  CCW_cm  Weight_Kg      Sex  \\\n",
       "0         CC00147  ...       NaN      NaN  64.70   62.60        NaN  Unknown   \n",
       "1            W442  ...       NaN      NaN  35.85   31.35        NaN  Unknown   \n",
       "2          KE0376  ...       NaN      NaN  51.80   49.20        NaN  Unknown   \n",
       "3         CC00302  ...       NaN      NaN  60.50   59.00        NaN  Unknown   \n",
       "4  NotTagged_0113  ...       NaN      NaN  34.70   33.00        NaN  Unknown   \n",
       "5  NotTagged_0114  ...       NaN      NaN  33.20   30.70        NaN  Unknown   \n",
       "6           KA460  ...       NaN      NaN  37.40   33.50        NaN  Unknown   \n",
       "7           KA442  ...       NaN      NaN  40.30   37.20        NaN  Unknown   \n",
       "8           KA466  ...       NaN      NaN  44.00   43.20        NaN  Unknown   \n",
       "9          KE1184  ...       NaN      NaN  48.30   43.30        NaN  Unknown   \n",
       "\n",
       "                               TurtleCharacteristics    Status  \\\n",
       "0                             algae at rear of shell  Released   \n",
       "1  multiple b's on front flippers&  a lot of alga...  Released   \n",
       "2                                              clean  Released   \n",
       "3  1 b 3 CS+ calcerous algae at rear end of shell...  Released   \n",
       "4  very lively+ right eye is hanging out + swolle...  Released   \n",
       "5                                    large chip 6 LM  Released   \n",
       "6  green and whitish-pink calcerous algae growth ...  Released   \n",
       "7  calcerous algae growth-especially rear end and...  Released   \n",
       "8                                       clean shell   Released   \n",
       "9  10 LMS has a small chip& right rear flipper is...  Released   \n",
       "\n",
       "      ReleaseSite Date_TimeRelease  \n",
       "0  ReleaseSite_50         22/12/00  \n",
       "1  ReleaseSite_62         28/10/01  \n",
       "2  ReleaseSite_50         01/11/01  \n",
       "3  ReleaseSite_50         11/03/02  \n",
       "4  ReleaseSite_62         08/08/02  \n",
       "5   ReleaseSite_8         10/08/02  \n",
       "6  ReleaseSite_62         21/10/02  \n",
       "7  ReleaseSite_50         21/10/02  \n",
       "8  ReleaseSite_50         22/10/02  \n",
       "9  ReleaseSite_62              NaN  \n",
       "\n",
       "[10 rows x 21 columns]"
      ]
     },
     "execution_count": 106,
     "metadata": {},
     "output_type": "execute_result"
    }
   ],
   "source": [
    "#first 10 data\n",
    "data.head(10)"
   ]
  },
  {
   "cell_type": "code",
   "execution_count": 107,
   "metadata": {},
   "outputs": [
    {
     "name": "stdout",
     "output_type": "stream",
     "text": [
      "<class 'pandas.core.frame.DataFrame'>\n",
      "RangeIndex: 18062 entries, 0 to 18061\n",
      "Data columns (total 21 columns):\n",
      " #   Column                 Non-Null Count  Dtype  \n",
      "---  ------                 --------------  -----  \n",
      " 0   Rescue_ID              18062 non-null  object \n",
      " 1   Date_TimeCaught        18062 non-null  object \n",
      " 2   Researcher             18062 non-null  object \n",
      " 3   CaptureSite            18062 non-null  object \n",
      " 4   ForagingGround         18062 non-null  object \n",
      " 5   CaptureMethod          18062 non-null  object \n",
      " 6   Fisher                 18062 non-null  object \n",
      " 7   LandingSite            18062 non-null  object \n",
      " 8   Species                18062 non-null  object \n",
      " 9   Tag_1                  17937 non-null  object \n",
      " 10  Tag_2                  4911 non-null   object \n",
      " 11  Lost_Tags              925 non-null    object \n",
      " 12  T_Number               38 non-null     object \n",
      " 13  CCL_cm                 18038 non-null  float64\n",
      " 14  CCW_cm                 18035 non-null  float64\n",
      " 15  Weight_Kg              12653 non-null  float64\n",
      " 16  Sex                    13732 non-null  object \n",
      " 17  TurtleCharacteristics  18010 non-null  object \n",
      " 18  Status                 14429 non-null  object \n",
      " 19  ReleaseSite            17987 non-null  object \n",
      " 20  Date_TimeRelease       11954 non-null  object \n",
      "dtypes: float64(3), object(18)\n",
      "memory usage: 2.9+ MB\n"
     ]
    }
   ],
   "source": [
    "#info on the data\n",
    "data.info()"
   ]
  },
  {
   "cell_type": "code",
   "execution_count": 108,
   "metadata": {},
   "outputs": [
    {
     "data": {
      "text/plain": [
       "Index(['Rescue_ID', 'Date_TimeCaught', 'Researcher', 'CaptureSite',\n",
       "       'ForagingGround', 'CaptureMethod', 'Fisher', 'LandingSite', 'Species',\n",
       "       'Tag_1', 'Tag_2', 'Lost_Tags', 'T_Number', 'CCL_cm', 'CCW_cm',\n",
       "       'Weight_Kg', 'Sex', 'TurtleCharacteristics', 'Status', 'ReleaseSite',\n",
       "       'Date_TimeRelease'],\n",
       "      dtype='object')"
      ]
     },
     "execution_count": 108,
     "metadata": {},
     "output_type": "execute_result"
    }
   ],
   "source": [
    "#Understand the data\n",
    "data.columns"
   ]
  },
  {
   "cell_type": "code",
   "execution_count": 109,
   "metadata": {},
   "outputs": [
    {
     "data": {
      "text/plain": [
       "0    2000_RE_0060\n",
       "1    2001_RE_0187\n",
       "2    2001_RE_0197\n",
       "3    2002_RE_0031\n",
       "4    2002_RE_0118\n",
       "5    2002_RE_0119\n",
       "6    2002_RE_0214\n",
       "7    2002_RE_0215\n",
       "8    2002_RE_0218\n",
       "9    2003_RE_0187\n",
       "Name: Rescue_ID, dtype: object"
      ]
     },
     "execution_count": 109,
     "metadata": {},
     "output_type": "execute_result"
    }
   ],
   "source": [
    "#Column Rescue_ID : It�s an individual bycatch incidence identity number. The numbers are consecutive, for each year \n",
    "                    # e.g. �2018_RE_0732 means rescue number 732 in year 2018\"\n",
    "data['Rescue_ID'].head(10)\n"
   ]
  },
  {
   "cell_type": "code",
   "execution_count": 110,
   "metadata": {},
   "outputs": [],
   "source": [
    "#Split the data based on rescue number and year \n",
    "data[['Year','RE','Rescue_number']]=data['Rescue_ID'].str.split('_', expand=True)"
   ]
  },
  {
   "cell_type": "code",
   "execution_count": 111,
   "metadata": {},
   "outputs": [],
   "source": [
    "del data['RE']"
   ]
  },
  {
   "cell_type": "code",
   "execution_count": 112,
   "metadata": {},
   "outputs": [],
   "source": [
    "#Rescue_number per year\n",
    "rescue_number_per_year=data.groupby('Year')['Rescue_number'].count().to_dict()\n"
   ]
  },
  {
   "cell_type": "code",
   "execution_count": 113,
   "metadata": {},
   "outputs": [
    {
     "data": {
      "text/plain": [
       "{'1998': 16,\n",
       " '1999': 40,\n",
       " '2000': 62,\n",
       " '2001': 270,\n",
       " '2002': 291,\n",
       " '2003': 544,\n",
       " '2004': 456,\n",
       " '2005': 445,\n",
       " '2006': 404,\n",
       " '2007': 617,\n",
       " '2008': 853,\n",
       " '2009': 819,\n",
       " '2010': 1134,\n",
       " '2011': 1398,\n",
       " '2012': 1651,\n",
       " '2013': 1331,\n",
       " '2014': 1627,\n",
       " '2015': 1590,\n",
       " '2016': 1395,\n",
       " '2017': 1555,\n",
       " '2018': 1564}"
      ]
     },
     "execution_count": 113,
     "metadata": {},
     "output_type": "execute_result"
    }
   ],
   "source": [
    "rescue_number_per_year"
   ]
  },
  {
   "cell_type": "code",
   "execution_count": 114,
   "metadata": {},
   "outputs": [
    {
     "data": {
      "image/png": "[encoded data removed]",
      "text/plain": [
       "<Figure size 640x480 with 1 Axes>"
      ]
     },
     "metadata": {},
     "output_type": "display_data"
    }
   ],
   "source": [
    "#plotting the number of rescue per year\n",
    "plt.bar(rescue_number_per_year.keys(), rescue_number_per_year.values())\n",
    "plt.xlabel('Year')\n",
    "plt.ylabel('Rescue_Number')\n",
    "plt.title(' Rescue_Number_Per_Year')\n",
    "plt.xticks(rotation='vertical')\n",
    "plt.show()"
   ]
  },
  {
   "cell_type": "code",
   "execution_count": 115,
   "metadata": {},
   "outputs": [
    {
     "data": {
      "text/plain": [
       "0        2000-12-22\n",
       "1        2001-10-28\n",
       "2        2001-11-01\n",
       "3        2002-03-11\n",
       "4        2002-08-08\n",
       "            ...    \n",
       "18057    2018-12-18\n",
       "18058    2018-12-18\n",
       "18059    2018-12-24\n",
       "18060    2018-12-24\n",
       "18061    2018-12-28\n",
       "Name: Date_TimeCaught, Length: 18062, dtype: object"
      ]
     },
     "execution_count": 115,
     "metadata": {},
     "output_type": "execute_result"
    }
   ],
   "source": [
    "#Column Date_TimeCaught\n",
    "data['Date_TimeCaught']"
   ]
  },
  {
   "cell_type": "code",
   "execution_count": 116,
   "metadata": {},
   "outputs": [],
   "source": [
    "data['Date_TimeCaught']=pd.to_datetime(data['Date_TimeCaught'])"
   ]
  },
  {
   "cell_type": "code",
   "execution_count": 117,
   "metadata": {},
   "outputs": [],
   "source": [
    " #Splitting into separate columns for month and day\n",
    "data['Month'] = data['Date_TimeCaught'].dt.month\n",
    "data['Day'] =data['Date_TimeCaught'].dt.day\n",
    "data['Year(1)']=data['Date_TimeCaught'].dt.year"
   ]
  },
  {
   "cell_type": "code",
   "execution_count": 118,
   "metadata": {},
   "outputs": [],
   "source": [
    "#Convert 'Year' column to int\n",
    "data['Year'] = pd.to_numeric(data['Year'], errors='coerce')"
   ]
  },
  {
   "cell_type": "code",
   "execution_count": 119,
   "metadata": {},
   "outputs": [],
   "source": [
    "data['Identical']=data['Year'] == data['Year(1)']"
   ]
  },
  {
   "cell_type": "code",
   "execution_count": 120,
   "metadata": {},
   "outputs": [
    {
     "data": {
      "text/plain": [
       "Identical\n",
       "True     18057\n",
       "False        5\n",
       "Name: count, dtype: int64"
      ]
     },
     "execution_count": 120,
     "metadata": {},
     "output_type": "execute_result"
    }
   ],
   "source": [
    "data['Identical'].value_counts()"
   ]
  },
  {
   "cell_type": "code",
   "execution_count": 123,
   "metadata": {},
   "outputs": [],
   "source": [
    "# Grouping by 'Month' and 'Year', and counting the number of records\n",
    "records_per_month_year = data.groupby(['Month', 'Year']).size().reset_index(name='NumRescue')"
   ]
  },
  {
   "cell_type": "code",
   "execution_count": 124,
   "metadata": {},
   "outputs": [],
   "source": [
    "# Finding the month and year with the most records\n",
    "max_rescues = records_per_month_year.loc[records_per_month_year['NumRescue'].idxmax()]\n"
   ]
  },
  {
   "cell_type": "code",
   "execution_count": 125,
   "metadata": {},
   "outputs": [
    {
     "data": {
      "text/plain": [
       "Month          11\n",
       "Year         2014\n",
       "NumRescue     240\n",
       "Name: 218, dtype: int64"
      ]
     },
     "execution_count": 125,
     "metadata": {},
     "output_type": "execute_result"
    }
   ],
   "source": [
    "max_rescues"
   ]
  },
  {
   "cell_type": "code",
   "execution_count": 132,
   "metadata": {},
   "outputs": [
    {
     "data": {
      "image/png": "[encoded data removed]",
      "text/plain": [
       "<Figure size 640x480 with 1 Axes>"
      ]
     },
     "metadata": {},
     "output_type": "display_data"
    }
   ],
   "source": [
    "# Plotting the bar chart\n",
    "plt.bar(records_per_month_year.index, records_per_month_year['NumRescue'])\n",
    "plt.xlabel('Month and Year')\n",
    "plt.ylabel('Number of Rescues')\n",
    "plt.title('Number of Rescues per Month and Year')\n",
    "# Display every label\n",
    "plt.xticks(records_per_month_year.index[::12], [f\"{month:02d}-{year}\" for month, year in zip(records_per_month_year['Month'][::12], records_per_month_year['Year'][::12])], rotation=45, ha='right')\n",
    "plt.tight_layout()\n",
    "plt.show()"
   ]
  },
  {
   "cell_type": "code",
   "execution_count": 122,
   "metadata": {},
   "outputs": [
    {
     "data": {
      "text/plain": [
       "Rescue_ID                    0\n",
       "Date_TimeCaught              0\n",
       "Researcher                   0\n",
       "CaptureSite                  0\n",
       "ForagingGround               0\n",
       "CaptureMethod                0\n",
       "Fisher                       0\n",
       "LandingSite                  0\n",
       "Species                      0\n",
       "Tag_1                      125\n",
       "Tag_2                    13151\n",
       "Lost_Tags                17137\n",
       "T_Number                 18024\n",
       "CCL_cm                      24\n",
       "CCW_cm                      27\n",
       "Weight_Kg                 5409\n",
       "Sex                       4330\n",
       "TurtleCharacteristics       52\n",
       "Status                    3633\n",
       "ReleaseSite                 75\n",
       "Date_TimeRelease          6108\n",
       "Year                         0\n",
       "Rescue_number                0\n",
       "Month                        0\n",
       "Day                          0\n",
       "Year(1)                      0\n",
       "Identical                    0\n",
       "dtype: int64"
      ]
     },
     "execution_count": 122,
     "metadata": {},
     "output_type": "execute_result"
    }
   ],
   "source": [
    "#check for missing values\n",
    "data.isna().sum()"
   ]
  },
  {
   "cell_type": "code",
   "execution_count": null,
   "metadata": {},
   "outputs": [],
   "source": []
  }
 ],
 "metadata": {
  "kernelspec": {
   "display_name": "myenv",
   "language": "python",
   "name": "python3"
  },
  "language_info": {
   "codemirror_mode": {
    "name": "ipython",
    "version": 3
   },
   "file_extension": ".py",
   "mimetype": "text/x-python",
   "name": "python",
   "nbconvert_exporter": "python",
   "pygments_lexer": "ipython3",
   "version": "3.9.16"
  }
 },
 "nbformat": 4,
 "nbformat_minor": 2
}
